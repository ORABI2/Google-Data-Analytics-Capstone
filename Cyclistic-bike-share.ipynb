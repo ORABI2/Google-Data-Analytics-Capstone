{
 "cells": [
  {
   "cell_type": "markdown",
   "id": "e4bd7254",
   "metadata": {},
   "source": [
    "# Introduction\n",
    "Welcome to the Cyclistic bike-share case study! this case study is a Capstone project of **Google Data Analytics Professional certificate**.\n",
    "* I will perform the 6 phases of Data analysis process (**Ask - Prepare - Process - Analyze - Share - Act**) on this case study, To help the marketing team design a new and creative startegy.\n",
    "* Also provide the company with with compelling insights and meaningful data visualizations.\n",
    "\n",
    "**Title: Cyclistic Case Study  \n",
    "Author: Khaled Orabi  \n",
    "Date: 7 July 2023**\n",
    "\n",
    "\n",
    "![Capstone 1 : Cyclistic - Bike Share Case Study | Kaggle](https://storage.googleapis.com/kaggle-datasets-images/1569874/2584294/f591308dd67d47ec9b92ca9e4e3b0fe5/dataset-cover.png?t=2021-09-03-19-18-50)\n",
    "\n",
    "\n",
    "## Backgorund\n",
    "* Cyclistic bike-share program has grown to a fleet of 5,824 bicycles that are locked into a network of 692 stations across Chicago.\n",
    "* Bike can unlocked from one station and return to another one.\n",
    "* Cyclistc has plenty of pricing plans:\n",
    "\t> **Single-ride**\n",
    "\t> **Full-day**\n",
    "\n",
    "\tCustomers of those plans are referred as **casual riders**\n",
    "\t>**Annual memberships**\n",
    "\t\n",
    "\tCustomers who purchase  this plan referred as **memebers** \n",
    "\n",
    "---\n",
    "## Scenario\n",
    "As a data analyst working with the marketing team at Cyclistic company in Chicago. The director believes that the comapany's success depends on maximizing the number of the annual memberships. Therefore the marketing team wants to understand how casual riders and anuual members use Cyclistic bikes differently to design a new strategy. So I will develop some recommendations for the marketing team reinforced with good data insights and attractive visualizations.\n",
    "\n",
    "---\n",
    "## Stakeholders\n",
    "* **Lily Moreno**: The director of marketing and your manager. Moreno is responsible for the development of campaigns and initiatives to promote the bike-share program.  \n",
    "\n",
    "* **Cyclistic executive team**: The notoriously detail-oriented executive team will decide whether to approve the recommended marketing program.  \n",
    "\n",
    "---\n",
    "## Main objectives\n",
    " 1. How do annual members and casual riders use Cyclistic bikes differently?\n",
    " 2. Why would casual riders buy Cyclistic annual memberships?\n",
    " 3. How can Cyclistic use digital media to influence casual riders to become members?\n",
    " \n",
    " ---  \n",
    "### Let's get into the Analysis Process \n",
    "![Work on your next Data Analytics project in 6 steps | by Chitranjan Gupta |  CodeX | Medium](https://miro.medium.com/v2/resize:fit:1400/1*4h7ahFBqnaFHeWibHWOl7w.png)\n",
    "## Ask\n",
    "\n",
    "**Main objectives for the marketing team:**\n",
    " 1. How do annual members and casual riders use Cyclistic bikes differently?\n",
    " 2. Why would casual riders buy Cyclistic annual memberships?\n",
    " 3. How can Cyclistic use digital media to influence casual riders to become members?  \n",
    " \n",
    ">Moreno has assigned me the first question to answer: **How do annual members and casual riders use Cyclistic bikes differently?**\n",
    " \n",
    "\n",
    "Our main Business Task or the main research question we want to answer is **How do annual members and casual riders use Cyclistic bikes differently?**\n",
    "\n",
    "---\n",
    "## Prepare  \n",
    "### Data Source / Location\n",
    "We will **collect and gather** Cyclistic’s historical trip data to **analyze and identify trends** from this [Source](https://divvy-tripdata.s3.amazonaws.com/index.html)\n",
    "\n",
    "This is a Public data a has been made available by **Motivate International Inc** (Under this [**License**](https://ride.divvybikes.com/data-license-agreement))\n",
    "\n",
    "#### Does our data ROCCC ?\n",
    "* A good data source is **ROCCC** which stands for **R**eliable, **O**riginal, **C**omprehensive, **C**urrent, and **C**ited.\n",
    "\n",
    "\t 1. **R**eliable - Yes it is, since the the bike-share company **is the parent** of data provider Inc.\n",
    "\t 2. **O**riginal - Yes!, because of it's reliability we can ensure that our data is original\n",
    "\t 3. **C**omprehensive - Yes we got most of the information we neeed to solve the problem\n",
    "\t 4. **C**urrent - Yes, Because our data is new, we got 1 year worth of data **(From: 2022-06 To: 2023-05)**\n",
    "\t 5. **C**ited - Yes \n",
    "\n",
    "\tSo i think our data **ROCCC**s \n",
    "### Data Orgnaization\n",
    "we stored our data into one data frame after merging the 12 CSV files into one CSV file.\n",
    "Here in my case i used python because it's a bit faster so here the **code** i used to merge the files:\n",
    "```python\n",
    "import pandas as pd\n",
    "import glob\n",
    "file_paths = glob.glob(\".../datasets/*.csv\")  # Add your 12 month dataset files into one file and put the directory instead of the (...)\n",
    "dfs = []\n",
    "for file_path in file_paths:\n",
    "    df = pd.read_csv(file_path)\n",
    "    dfs.append(df)\n",
    "merged_df = pd.concat(dfs, axis=0, ignore_index=True)\n",
    "merged_df.to_csv(\".../datasets/ready_trip_data.csv\", index=False)\n",
    "```\n",
    "\n",
    "**Note:** you can use R to achieve the last step if you want\n",
    "\n",
    "## Process \n",
    "I used R because it is usually preferred for data visualization as it offers flexibility and minimum required coding through its packages.  \n",
    "Let's get into it."
   ]
  },
  {
   "cell_type": "code",
   "execution_count": 2,
   "id": "f91fc085",
   "metadata": {},
   "outputs": [],
   "source": [
    "library(tidyverse)"
   ]
  },
  {
   "cell_type": "code",
   "execution_count": 3,
   "id": "4f321a81",
   "metadata": {
    "scrolled": false
   },
   "outputs": [
    {
     "name": "stderr",
     "output_type": "stream",
     "text": [
      "Parsed with column specification:\n",
      "cols(\n",
      "  ride_id = col_character(),\n",
      "  rideable_type = col_character(),\n",
      "  started_at = col_datetime(format = \"\"),\n",
      "  ended_at = col_datetime(format = \"\"),\n",
      "  start_station_name = col_character(),\n",
      "  start_station_id = col_character(),\n",
      "  end_station_name = col_character(),\n",
      "  end_station_id = col_character(),\n",
      "  start_lat = col_double(),\n",
      "  start_lng = col_double(),\n",
      "  end_lat = col_double(),\n",
      "  end_lng = col_double(),\n",
      "  member_casual = col_character()\n",
      ")\n"
     ]
    },
    {
     "data": {
      "text/html": [
       "<table>\n",
       "<thead><tr><th scope=col>ride_id</th><th scope=col>rideable_type</th><th scope=col>started_at</th><th scope=col>ended_at</th><th scope=col>start_station_name</th><th scope=col>start_station_id</th><th scope=col>end_station_name</th><th scope=col>end_station_id</th><th scope=col>start_lat</th><th scope=col>start_lng</th><th scope=col>end_lat</th><th scope=col>end_lng</th><th scope=col>member_casual</th></tr></thead>\n",
       "<tbody>\n",
       "\t<tr><td>600CFD130D0FD2A4   </td><td>electric_bike      </td><td>2022-06-30 17:27:53</td><td>2022-06-30 17:35:15</td><td>NA                 </td><td>NA                 </td><td>NA                 </td><td>NA                 </td><td>41.89              </td><td>-87.62             </td><td>41.91              </td><td>-87.62             </td><td>casual             </td></tr>\n",
       "\t<tr><td>F5E6B5C1682C6464   </td><td>electric_bike      </td><td>2022-06-30 18:39:52</td><td>2022-06-30 18:47:28</td><td>NA                 </td><td>NA                 </td><td>NA                 </td><td>NA                 </td><td>41.91              </td><td>-87.62             </td><td>41.93              </td><td>-87.63             </td><td>casual             </td></tr>\n",
       "\t<tr><td>B6EB6D27BAD771D2   </td><td>electric_bike      </td><td>2022-06-30 11:49:25</td><td>2022-06-30 12:02:54</td><td>NA                 </td><td>NA                 </td><td>NA                 </td><td>NA                 </td><td>41.91              </td><td>-87.65             </td><td>41.89              </td><td>-87.61             </td><td>casual             </td></tr>\n",
       "\t<tr><td>C9C320375DE1D5C6   </td><td>electric_bike      </td><td>2022-06-30 11:15:25</td><td>2022-06-30 11:19:43</td><td>NA                 </td><td>NA                 </td><td>NA                 </td><td>NA                 </td><td>41.80              </td><td>-87.66             </td><td>41.80              </td><td>-87.65             </td><td>casual             </td></tr>\n",
       "\t<tr><td>56C055851023BE98   </td><td>electric_bike      </td><td>2022-06-29 23:36:50</td><td>2022-06-29 23:45:17</td><td>NA                 </td><td>NA                 </td><td>NA                 </td><td>NA                 </td><td>41.91              </td><td>-87.63             </td><td>41.93              </td><td>-87.64             </td><td>casual             </td></tr>\n",
       "\t<tr><td>B664188E8163D045   </td><td>electric_bike      </td><td>2022-06-30 16:42:10</td><td>2022-06-30 16:58:22</td><td>NA                 </td><td>NA                 </td><td>NA                 </td><td>NA                 </td><td>42.03              </td><td>-87.71             </td><td>42.06              </td><td>-87.73             </td><td>casual             </td></tr>\n",
       "</tbody>\n",
       "</table>\n"
      ],
      "text/latex": [
       "\\begin{tabular}{r|lllllllllllll}\n",
       " ride\\_id & rideable\\_type & started\\_at & ended\\_at & start\\_station\\_name & start\\_station\\_id & end\\_station\\_name & end\\_station\\_id & start\\_lat & start\\_lng & end\\_lat & end\\_lng & member\\_casual\\\\\n",
       "\\hline\n",
       "\t 600CFD130D0FD2A4    & electric\\_bike     & 2022-06-30 17:27:53 & 2022-06-30 17:35:15 & NA                  & NA                  & NA                  & NA                  & 41.89               & -87.62              & 41.91               & -87.62              & casual             \\\\\n",
       "\t F5E6B5C1682C6464    & electric\\_bike     & 2022-06-30 18:39:52 & 2022-06-30 18:47:28 & NA                  & NA                  & NA                  & NA                  & 41.91               & -87.62              & 41.93               & -87.63              & casual             \\\\\n",
       "\t B6EB6D27BAD771D2    & electric\\_bike     & 2022-06-30 11:49:25 & 2022-06-30 12:02:54 & NA                  & NA                  & NA                  & NA                  & 41.91               & -87.65              & 41.89               & -87.61              & casual             \\\\\n",
       "\t C9C320375DE1D5C6    & electric\\_bike     & 2022-06-30 11:15:25 & 2022-06-30 11:19:43 & NA                  & NA                  & NA                  & NA                  & 41.80               & -87.66              & 41.80               & -87.65              & casual             \\\\\n",
       "\t 56C055851023BE98    & electric\\_bike     & 2022-06-29 23:36:50 & 2022-06-29 23:45:17 & NA                  & NA                  & NA                  & NA                  & 41.91               & -87.63              & 41.93               & -87.64              & casual             \\\\\n",
       "\t B664188E8163D045    & electric\\_bike     & 2022-06-30 16:42:10 & 2022-06-30 16:58:22 & NA                  & NA                  & NA                  & NA                  & 42.03               & -87.71              & 42.06               & -87.73              & casual             \\\\\n",
       "\\end{tabular}\n"
      ],
      "text/markdown": [
       "\n",
       "| ride_id | rideable_type | started_at | ended_at | start_station_name | start_station_id | end_station_name | end_station_id | start_lat | start_lng | end_lat | end_lng | member_casual |\n",
       "|---|---|---|---|---|---|---|---|---|---|---|---|---|\n",
       "| 600CFD130D0FD2A4    | electric_bike       | 2022-06-30 17:27:53 | 2022-06-30 17:35:15 | NA                  | NA                  | NA                  | NA                  | 41.89               | -87.62              | 41.91               | -87.62              | casual              |\n",
       "| F5E6B5C1682C6464    | electric_bike       | 2022-06-30 18:39:52 | 2022-06-30 18:47:28 | NA                  | NA                  | NA                  | NA                  | 41.91               | -87.62              | 41.93               | -87.63              | casual              |\n",
       "| B6EB6D27BAD771D2    | electric_bike       | 2022-06-30 11:49:25 | 2022-06-30 12:02:54 | NA                  | NA                  | NA                  | NA                  | 41.91               | -87.65              | 41.89               | -87.61              | casual              |\n",
       "| C9C320375DE1D5C6    | electric_bike       | 2022-06-30 11:15:25 | 2022-06-30 11:19:43 | NA                  | NA                  | NA                  | NA                  | 41.80               | -87.66              | 41.80               | -87.65              | casual              |\n",
       "| 56C055851023BE98    | electric_bike       | 2022-06-29 23:36:50 | 2022-06-29 23:45:17 | NA                  | NA                  | NA                  | NA                  | 41.91               | -87.63              | 41.93               | -87.64              | casual              |\n",
       "| B664188E8163D045    | electric_bike       | 2022-06-30 16:42:10 | 2022-06-30 16:58:22 | NA                  | NA                  | NA                  | NA                  | 42.03               | -87.71              | 42.06               | -87.73              | casual              |\n",
       "\n"
      ],
      "text/plain": [
       "  ride_id          rideable_type started_at          ended_at           \n",
       "1 600CFD130D0FD2A4 electric_bike 2022-06-30 17:27:53 2022-06-30 17:35:15\n",
       "2 F5E6B5C1682C6464 electric_bike 2022-06-30 18:39:52 2022-06-30 18:47:28\n",
       "3 B6EB6D27BAD771D2 electric_bike 2022-06-30 11:49:25 2022-06-30 12:02:54\n",
       "4 C9C320375DE1D5C6 electric_bike 2022-06-30 11:15:25 2022-06-30 11:19:43\n",
       "5 56C055851023BE98 electric_bike 2022-06-29 23:36:50 2022-06-29 23:45:17\n",
       "6 B664188E8163D045 electric_bike 2022-06-30 16:42:10 2022-06-30 16:58:22\n",
       "  start_station_name start_station_id end_station_name end_station_id start_lat\n",
       "1 NA                 NA               NA               NA             41.89    \n",
       "2 NA                 NA               NA               NA             41.91    \n",
       "3 NA                 NA               NA               NA             41.91    \n",
       "4 NA                 NA               NA               NA             41.80    \n",
       "5 NA                 NA               NA               NA             41.91    \n",
       "6 NA                 NA               NA               NA             42.03    \n",
       "  start_lng end_lat end_lng member_casual\n",
       "1 -87.62    41.91   -87.62  casual       \n",
       "2 -87.62    41.93   -87.63  casual       \n",
       "3 -87.65    41.89   -87.61  casual       \n",
       "4 -87.66    41.80   -87.65  casual       \n",
       "5 -87.63    41.93   -87.64  casual       \n",
       "6 -87.71    42.06   -87.73  casual       "
      ]
     },
     "metadata": {},
     "output_type": "display_data"
    }
   ],
   "source": [
    "file_paths <- read_csv(\"C:/Users/orabi/OneDrive - Cairo University - Students/Documents/Data Analytics/Projects/Google-Data-Analytics-Capstone/ready_trip_data.csv\")\n",
    "head(file_paths)"
   ]
  },
  {
   "cell_type": "markdown",
   "id": "28dfc707",
   "metadata": {},
   "source": [
    "* First we will drop any records with NA values and duplicate records"
   ]
  },
  {
   "cell_type": "code",
   "execution_count": 4,
   "id": "33ce1c45",
   "metadata": {},
   "outputs": [],
   "source": [
    "trip_data <- drop_na(file_paths)\n",
    "trip_data <- trip_data[ !duplicated (trip_data), ] "
   ]
  },
  {
   "cell_type": "markdown",
   "id": "bbc7b0cb",
   "metadata": {},
   "source": [
    "* It's time to **explore** our data after some **cleaning**"
   ]
  },
  {
   "cell_type": "code",
   "execution_count": 5,
   "id": "8cefda22",
   "metadata": {},
   "outputs": [
    {
     "name": "stdout",
     "output_type": "stream",
     "text": [
      "[1] \"-----------Dataframe Glimpse--------------\"\n",
      "Observations: 4,494,681\n",
      "Variables: 13\n",
      "$ ride_id            <chr> \"B12AD6565494C368\", \"BAD4CB075003A605\", \"76DAD9F...\n",
      "$ rideable_type      <chr> \"classic_bike\", \"electric_bike\", \"electric_bike\"...\n",
      "$ started_at         <dttm> 2022-06-09 22:28:32, 2022-06-19 17:08:23, 2022-...\n",
      "$ ended_at           <dttm> 2022-06-09 22:52:17, 2022-06-19 17:08:25, 2022-...\n",
      "$ start_station_name <chr> \"California Ave & Milwaukee Ave\", \"California Av...\n",
      "$ start_station_id   <chr> \"13084\", \"13084\", \"20222\", \"637\", \"13256\", \"1308...\n",
      "$ end_station_name   <chr> \"California Ave & Milwaukee Ave\", \"California Av...\n",
      "$ end_station_id     <chr> \"13084\", \"13084\", \"20222\", \"13256\", \"13256\", \"13...\n",
      "$ start_lat          <dbl> 41.92269, 41.92261, 41.70463, 41.89561, 41.90303...\n",
      "$ start_lng          <dbl> -87.69715, -87.69715, -87.52841, -87.67210, -87....\n",
      "$ end_lat            <dbl> 41.92269, 41.92269, 41.70458, 41.90303, 41.90303...\n",
      "$ end_lng            <dbl> -87.69715, -87.69715, -87.52823, -87.69747, -87....\n",
      "$ member_casual      <chr> \"casual\", \"casual\", \"casual\", \"casual\", \"casual\"...\n",
      "[1] \"-----------Display dataframe head--------------\"\n"
     ]
    },
    {
     "data": {
      "text/html": [
       "<table>\n",
       "<thead><tr><th scope=col>ride_id</th><th scope=col>rideable_type</th><th scope=col>started_at</th><th scope=col>ended_at</th><th scope=col>start_station_name</th><th scope=col>start_station_id</th><th scope=col>end_station_name</th><th scope=col>end_station_id</th><th scope=col>start_lat</th><th scope=col>start_lng</th><th scope=col>end_lat</th><th scope=col>end_lng</th><th scope=col>member_casual</th></tr></thead>\n",
       "<tbody>\n",
       "\t<tr><td>B12AD6565494C368                  </td><td>classic_bike                      </td><td>2022-06-09 22:28:32               </td><td>2022-06-09 22:52:17               </td><td>California Ave &amp; Milwaukee Ave</td><td>13084                             </td><td>California Ave &amp; Milwaukee Ave</td><td>13084                             </td><td>41.92269                          </td><td>-87.69715                         </td><td>41.92269                          </td><td>-87.69715                         </td><td>casual                            </td></tr>\n",
       "\t<tr><td>BAD4CB075003A605                  </td><td>electric_bike                     </td><td>2022-06-19 17:08:23               </td><td>2022-06-19 17:08:25               </td><td>California Ave &amp; Milwaukee Ave</td><td>13084                             </td><td>California Ave &amp; Milwaukee Ave</td><td>13084                             </td><td>41.92261                          </td><td>-87.69715                         </td><td>41.92269                          </td><td>-87.69715                         </td><td>casual                            </td></tr>\n",
       "\t<tr><td>76DAD9FC95774B53                                                          </td><td>electric_bike                                                             </td><td>2022-06-26 23:59:44                                                       </td><td>2022-06-27 00:25:26                                                       </td><td><span style=white-space:pre-wrap>Burnham Greenway &amp; 105th St   </span></td><td>20222                                                                     </td><td><span style=white-space:pre-wrap>Burnham Greenway &amp; 105th St   </span></td><td>20222                                                                     </td><td>41.70463                                                                  </td><td>-87.52841                                                                 </td><td>41.70458                                                                  </td><td>-87.52823                                                                 </td><td>casual                                                                    </td></tr>\n",
       "\t<tr><td>47DE68ACCA138C13                                                          </td><td>electric_bike                                                             </td><td>2022-06-27 11:40:53                                                       </td><td>2022-06-27 11:50:16                                                       </td><td><span style=white-space:pre-wrap>Wood St &amp; Chicago Ave         </span></td><td><span style=white-space:pre-wrap>637  </span>                             </td><td><span style=white-space:pre-wrap>California Ave &amp; Division St  </span></td><td>13256                                                                     </td><td>41.89561                                                                  </td><td>-87.67210                                                                 </td><td>41.90303                                                                  </td><td>-87.69747                                                                 </td><td>casual                                                                    </td></tr>\n",
       "\t<tr><td>5D899636D3334ED5                                                          </td><td>classic_bike                                                              </td><td>2022-06-27 16:01:13                                                       </td><td>2022-06-27 16:35:56                                                       </td><td><span style=white-space:pre-wrap>California Ave &amp; Division St  </span></td><td>13256                                                                     </td><td><span style=white-space:pre-wrap>California Ave &amp; Division St  </span></td><td>13256                                                                     </td><td>41.90303                                                                  </td><td>-87.69747                                                                 </td><td>41.90303                                                                  </td><td>-87.69747                                                                 </td><td>casual                                                                    </td></tr>\n",
       "\t<tr><td>7A163D957F8CF0DD                  </td><td>classic_bike                      </td><td>2022-06-19 22:29:14               </td><td>2022-06-19 22:29:57               </td><td>California Ave &amp; Milwaukee Ave</td><td>13084                             </td><td>California Ave &amp; Milwaukee Ave</td><td>13084                             </td><td>41.92269                          </td><td>-87.69715                         </td><td>41.92269                          </td><td>-87.69715                         </td><td>casual                            </td></tr>\n",
       "</tbody>\n",
       "</table>\n"
      ],
      "text/latex": [
       "\\begin{tabular}{r|lllllllllllll}\n",
       " ride\\_id & rideable\\_type & started\\_at & ended\\_at & start\\_station\\_name & start\\_station\\_id & end\\_station\\_name & end\\_station\\_id & start\\_lat & start\\_lng & end\\_lat & end\\_lng & member\\_casual\\\\\n",
       "\\hline\n",
       "\t B12AD6565494C368                 & classic\\_bike                   & 2022-06-09 22:28:32              & 2022-06-09 22:52:17              & California Ave \\& Milwaukee Ave & 13084                            & California Ave \\& Milwaukee Ave & 13084                            & 41.92269                         & -87.69715                        & 41.92269                         & -87.69715                        & casual                          \\\\\n",
       "\t BAD4CB075003A605                 & electric\\_bike                  & 2022-06-19 17:08:23              & 2022-06-19 17:08:25              & California Ave \\& Milwaukee Ave & 13084                            & California Ave \\& Milwaukee Ave & 13084                            & 41.92261                         & -87.69715                        & 41.92269                         & -87.69715                        & casual                          \\\\\n",
       "\t 76DAD9FC95774B53                 & electric\\_bike                  & 2022-06-26 23:59:44              & 2022-06-27 00:25:26              & Burnham Greenway \\& 105th St    & 20222                            & Burnham Greenway \\& 105th St    & 20222                            & 41.70463                         & -87.52841                        & 41.70458                         & -87.52823                        & casual                          \\\\\n",
       "\t 47DE68ACCA138C13                 & electric\\_bike                  & 2022-06-27 11:40:53              & 2022-06-27 11:50:16              & Wood St \\& Chicago Ave          & 637                              & California Ave \\& Division St   & 13256                            & 41.89561                         & -87.67210                        & 41.90303                         & -87.69747                        & casual                          \\\\\n",
       "\t 5D899636D3334ED5                 & classic\\_bike                   & 2022-06-27 16:01:13              & 2022-06-27 16:35:56              & California Ave \\& Division St   & 13256                            & California Ave \\& Division St   & 13256                            & 41.90303                         & -87.69747                        & 41.90303                         & -87.69747                        & casual                          \\\\\n",
       "\t 7A163D957F8CF0DD                 & classic\\_bike                   & 2022-06-19 22:29:14              & 2022-06-19 22:29:57              & California Ave \\& Milwaukee Ave & 13084                            & California Ave \\& Milwaukee Ave & 13084                            & 41.92269                         & -87.69715                        & 41.92269                         & -87.69715                        & casual                          \\\\\n",
       "\\end{tabular}\n"
      ],
      "text/markdown": [
       "\n",
       "| ride_id | rideable_type | started_at | ended_at | start_station_name | start_station_id | end_station_name | end_station_id | start_lat | start_lng | end_lat | end_lng | member_casual |\n",
       "|---|---|---|---|---|---|---|---|---|---|---|---|---|\n",
       "| B12AD6565494C368               | classic_bike                   | 2022-06-09 22:28:32            | 2022-06-09 22:52:17            | California Ave & Milwaukee Ave | 13084                          | California Ave & Milwaukee Ave | 13084                          | 41.92269                       | -87.69715                      | 41.92269                       | -87.69715                      | casual                         |\n",
       "| BAD4CB075003A605               | electric_bike                  | 2022-06-19 17:08:23            | 2022-06-19 17:08:25            | California Ave & Milwaukee Ave | 13084                          | California Ave & Milwaukee Ave | 13084                          | 41.92261                       | -87.69715                      | 41.92269                       | -87.69715                      | casual                         |\n",
       "| 76DAD9FC95774B53               | electric_bike                  | 2022-06-26 23:59:44            | 2022-06-27 00:25:26            | Burnham Greenway & 105th St    | 20222                          | Burnham Greenway & 105th St    | 20222                          | 41.70463                       | -87.52841                      | 41.70458                       | -87.52823                      | casual                         |\n",
       "| 47DE68ACCA138C13               | electric_bike                  | 2022-06-27 11:40:53            | 2022-06-27 11:50:16            | Wood St & Chicago Ave          | 637                            | California Ave & Division St   | 13256                          | 41.89561                       | -87.67210                      | 41.90303                       | -87.69747                      | casual                         |\n",
       "| 5D899636D3334ED5               | classic_bike                   | 2022-06-27 16:01:13            | 2022-06-27 16:35:56            | California Ave & Division St   | 13256                          | California Ave & Division St   | 13256                          | 41.90303                       | -87.69747                      | 41.90303                       | -87.69747                      | casual                         |\n",
       "| 7A163D957F8CF0DD               | classic_bike                   | 2022-06-19 22:29:14            | 2022-06-19 22:29:57            | California Ave & Milwaukee Ave | 13084                          | California Ave & Milwaukee Ave | 13084                          | 41.92269                       | -87.69715                      | 41.92269                       | -87.69715                      | casual                         |\n",
       "\n"
      ],
      "text/plain": [
       "  ride_id          rideable_type started_at          ended_at           \n",
       "1 B12AD6565494C368 classic_bike  2022-06-09 22:28:32 2022-06-09 22:52:17\n",
       "2 BAD4CB075003A605 electric_bike 2022-06-19 17:08:23 2022-06-19 17:08:25\n",
       "3 76DAD9FC95774B53 electric_bike 2022-06-26 23:59:44 2022-06-27 00:25:26\n",
       "4 47DE68ACCA138C13 electric_bike 2022-06-27 11:40:53 2022-06-27 11:50:16\n",
       "5 5D899636D3334ED5 classic_bike  2022-06-27 16:01:13 2022-06-27 16:35:56\n",
       "6 7A163D957F8CF0DD classic_bike  2022-06-19 22:29:14 2022-06-19 22:29:57\n",
       "  start_station_name             start_station_id\n",
       "1 California Ave & Milwaukee Ave 13084           \n",
       "2 California Ave & Milwaukee Ave 13084           \n",
       "3 Burnham Greenway & 105th St    20222           \n",
       "4 Wood St & Chicago Ave          637             \n",
       "5 California Ave & Division St   13256           \n",
       "6 California Ave & Milwaukee Ave 13084           \n",
       "  end_station_name               end_station_id start_lat start_lng end_lat \n",
       "1 California Ave & Milwaukee Ave 13084          41.92269  -87.69715 41.92269\n",
       "2 California Ave & Milwaukee Ave 13084          41.92261  -87.69715 41.92269\n",
       "3 Burnham Greenway & 105th St    20222          41.70463  -87.52841 41.70458\n",
       "4 California Ave & Division St   13256          41.89561  -87.67210 41.90303\n",
       "5 California Ave & Division St   13256          41.90303  -87.69747 41.90303\n",
       "6 California Ave & Milwaukee Ave 13084          41.92269  -87.69715 41.92269\n",
       "  end_lng   member_casual\n",
       "1 -87.69715 casual       \n",
       "2 -87.69715 casual       \n",
       "3 -87.52823 casual       \n",
       "4 -87.69747 casual       \n",
       "5 -87.69747 casual       \n",
       "6 -87.69715 casual       "
      ]
     },
     "metadata": {},
     "output_type": "display_data"
    }
   ],
   "source": [
    "\n",
    "print(\"-----------Dataframe Glimpse--------------\")\n",
    "glimpse(trip_data)\n",
    "print(\"-----------Display dataframe head--------------\")\n",
    "head(trip_data)"
   ]
  },
  {
   "cell_type": "markdown",
   "id": "b47d372a",
   "metadata": {},
   "source": [
    "After cleaning the data I noticed that most of the columns has good name conventions except the following: `rideable_type`, `started_at`, `ended_at` and `member_casual` .\n",
    "Let's rename them."
   ]
  },
  {
   "cell_type": "code",
   "execution_count": 6,
   "id": "8ffd83ec",
   "metadata": {},
   "outputs": [
    {
     "data": {
      "text/html": [
       "<ol class=list-inline>\n",
       "\t<li>'ride_id'</li>\n",
       "\t<li>'bike_type'</li>\n",
       "\t<li>'start_time'</li>\n",
       "\t<li>'end_time'</li>\n",
       "\t<li>'start_station_name'</li>\n",
       "\t<li>'start_station_id'</li>\n",
       "\t<li>'end_station_name'</li>\n",
       "\t<li>'end_station_id'</li>\n",
       "\t<li>'start_lat'</li>\n",
       "\t<li>'start_lng'</li>\n",
       "\t<li>'end_lat'</li>\n",
       "\t<li>'end_lng'</li>\n",
       "\t<li>'customer_type'</li>\n",
       "</ol>\n"
      ],
      "text/latex": [
       "\\begin{enumerate*}\n",
       "\\item 'ride\\_id'\n",
       "\\item 'bike\\_type'\n",
       "\\item 'start\\_time'\n",
       "\\item 'end\\_time'\n",
       "\\item 'start\\_station\\_name'\n",
       "\\item 'start\\_station\\_id'\n",
       "\\item 'end\\_station\\_name'\n",
       "\\item 'end\\_station\\_id'\n",
       "\\item 'start\\_lat'\n",
       "\\item 'start\\_lng'\n",
       "\\item 'end\\_lat'\n",
       "\\item 'end\\_lng'\n",
       "\\item 'customer\\_type'\n",
       "\\end{enumerate*}\n"
      ],
      "text/markdown": [
       "1. 'ride_id'\n",
       "2. 'bike_type'\n",
       "3. 'start_time'\n",
       "4. 'end_time'\n",
       "5. 'start_station_name'\n",
       "6. 'start_station_id'\n",
       "7. 'end_station_name'\n",
       "8. 'end_station_id'\n",
       "9. 'start_lat'\n",
       "10. 'start_lng'\n",
       "11. 'end_lat'\n",
       "12. 'end_lng'\n",
       "13. 'customer_type'\n",
       "\n",
       "\n"
      ],
      "text/plain": [
       " [1] \"ride_id\"            \"bike_type\"          \"start_time\"        \n",
       " [4] \"end_time\"           \"start_station_name\" \"start_station_id\"  \n",
       " [7] \"end_station_name\"   \"end_station_id\"     \"start_lat\"         \n",
       "[10] \"start_lng\"          \"end_lat\"            \"end_lng\"           \n",
       "[13] \"customer_type\"     "
      ]
     },
     "metadata": {},
     "output_type": "display_data"
    }
   ],
   "source": [
    "trip_data <- trip_data  %>% \n",
    "    rename (\n",
    "        bike_type = rideable_type,\n",
    "        start_time = started_at,\n",
    "        end_time = ended_at,\n",
    "        customer_type = member_casual\n",
    "    )\n",
    "colnames(trip_data)"
   ]
  },
  {
   "cell_type": "markdown",
   "id": "ec182ba3",
   "metadata": {},
   "source": [
    "I will calculate the **length of each ride** by subtracting the column `start_time` from the column `end_time` to get some insights of the customers *RideTime*"
   ]
  },
  {
   "cell_type": "code",
   "execution_count": 7,
   "id": "257ec95a",
   "metadata": {},
   "outputs": [],
   "source": [
    "trip_data$ride_time <- trip_data$end_time - trip_data$start_time"
   ]
  },
  {
   "cell_type": "markdown",
   "id": "9e1e415b",
   "metadata": {},
   "source": [
    "* Checking if the column has been added"
   ]
  },
  {
   "cell_type": "code",
   "execution_count": 8,
   "id": "609a02fa",
   "metadata": {},
   "outputs": [
    {
     "data": {
      "text/html": [
       "<ol class=list-inline>\n",
       "\t<li>'ride_id'</li>\n",
       "\t<li>'bike_type'</li>\n",
       "\t<li>'start_time'</li>\n",
       "\t<li>'end_time'</li>\n",
       "\t<li>'start_station_name'</li>\n",
       "\t<li>'start_station_id'</li>\n",
       "\t<li>'end_station_name'</li>\n",
       "\t<li>'end_station_id'</li>\n",
       "\t<li>'start_lat'</li>\n",
       "\t<li>'start_lng'</li>\n",
       "\t<li>'end_lat'</li>\n",
       "\t<li>'end_lng'</li>\n",
       "\t<li>'customer_type'</li>\n",
       "\t<li>'ride_time'</li>\n",
       "</ol>\n"
      ],
      "text/latex": [
       "\\begin{enumerate*}\n",
       "\\item 'ride\\_id'\n",
       "\\item 'bike\\_type'\n",
       "\\item 'start\\_time'\n",
       "\\item 'end\\_time'\n",
       "\\item 'start\\_station\\_name'\n",
       "\\item 'start\\_station\\_id'\n",
       "\\item 'end\\_station\\_name'\n",
       "\\item 'end\\_station\\_id'\n",
       "\\item 'start\\_lat'\n",
       "\\item 'start\\_lng'\n",
       "\\item 'end\\_lat'\n",
       "\\item 'end\\_lng'\n",
       "\\item 'customer\\_type'\n",
       "\\item 'ride\\_time'\n",
       "\\end{enumerate*}\n"
      ],
      "text/markdown": [
       "1. 'ride_id'\n",
       "2. 'bike_type'\n",
       "3. 'start_time'\n",
       "4. 'end_time'\n",
       "5. 'start_station_name'\n",
       "6. 'start_station_id'\n",
       "7. 'end_station_name'\n",
       "8. 'end_station_id'\n",
       "9. 'start_lat'\n",
       "10. 'start_lng'\n",
       "11. 'end_lat'\n",
       "12. 'end_lng'\n",
       "13. 'customer_type'\n",
       "14. 'ride_time'\n",
       "\n",
       "\n"
      ],
      "text/plain": [
       " [1] \"ride_id\"            \"bike_type\"          \"start_time\"        \n",
       " [4] \"end_time\"           \"start_station_name\" \"start_station_id\"  \n",
       " [7] \"end_station_name\"   \"end_station_id\"     \"start_lat\"         \n",
       "[10] \"start_lng\"          \"end_lat\"            \"end_lng\"           \n",
       "[13] \"customer_type\"      \"ride_time\"         "
      ]
     },
     "metadata": {},
     "output_type": "display_data"
    }
   ],
   "source": [
    "colnames(trip_data)"
   ]
  },
  {
   "cell_type": "code",
   "execution_count": 121,
   "id": "cae9c47d",
   "metadata": {},
   "outputs": [],
   "source": [
    "# we will add 2 columns contain weekday and month\n",
    "trip_data$weekday <- format(trip_data$start_time, \"%A\")\n",
    "trip_data$month <- format(trip_data$start_time, \"%Y - %m (%b)\" )\n",
    "trip_data$hour <- strftime(trip_data$start_time, \"%H\")"
   ]
  },
  {
   "cell_type": "markdown",
   "id": "c80a2a7c",
   "metadata": {},
   "source": [
    " I want to make sure that we got the right day names"
   ]
  },
  {
   "cell_type": "code",
   "execution_count": 122,
   "id": "a349288b",
   "metadata": {},
   "outputs": [
    {
     "data": {
      "text/html": [
       "<table>\n",
       "<thead><tr><th scope=col>ride_id</th><th scope=col>bike_type</th><th scope=col>start_time</th><th scope=col>end_time</th><th scope=col>start_station_name</th><th scope=col>start_station_id</th><th scope=col>end_station_name</th><th scope=col>end_station_id</th><th scope=col>start_lat</th><th scope=col>start_lng</th><th scope=col>end_lat</th><th scope=col>end_lng</th><th scope=col>customer_type</th><th scope=col>ride_time</th><th scope=col>weekday</th><th scope=col>month</th><th scope=col>hour</th></tr></thead>\n",
       "<tbody>\n",
       "\t<tr><td>B12AD6565494C368                                    </td><td>classic_bike                                        </td><td>2022-06-09 22:28:32                                 </td><td>2022-06-09 22:52:17                                 </td><td>California Ave &amp; Milwaukee Ave                  </td><td><span style=white-space:pre-wrap>13084       </span></td><td>California Ave &amp; Milwaukee Ave                  </td><td><span style=white-space:pre-wrap>13084       </span></td><td>41.92269                                            </td><td>-87.69715                                           </td><td>41.92269                                            </td><td>-87.69715                                           </td><td>casual                                              </td><td>1425                                                </td><td>Thursday                                            </td><td>2022 - 06 (Jun)                                     </td><td>00                                                  </td></tr>\n",
       "\t<tr><td>76DAD9FC95774B53                                                          </td><td>electric_bike                                                             </td><td>2022-06-26 23:59:44                                                       </td><td>2022-06-27 00:25:26                                                       </td><td><span style=white-space:pre-wrap>Burnham Greenway &amp; 105th St   </span></td><td><span style=white-space:pre-wrap>20222       </span>                      </td><td><span style=white-space:pre-wrap>Burnham Greenway &amp; 105th St   </span></td><td><span style=white-space:pre-wrap>20222       </span>                      </td><td>41.70463                                                                  </td><td>-87.52841                                                                 </td><td>41.70458                                                                  </td><td>-87.52823                                                                 </td><td>casual                                                                    </td><td>1542                                                                      </td><td><span style=white-space:pre-wrap>Sunday  </span>                          </td><td>2022 - 06 (Jun)                                                           </td><td>01                                                                        </td></tr>\n",
       "\t<tr><td>47DE68ACCA138C13                                                          </td><td>electric_bike                                                             </td><td>2022-06-27 11:40:53                                                       </td><td>2022-06-27 11:50:16                                                       </td><td><span style=white-space:pre-wrap>Wood St &amp; Chicago Ave         </span></td><td><span style=white-space:pre-wrap>637         </span>                      </td><td><span style=white-space:pre-wrap>California Ave &amp; Division St  </span></td><td><span style=white-space:pre-wrap>13256       </span>                      </td><td>41.89561                                                                  </td><td>-87.67210                                                                 </td><td>41.90303                                                                  </td><td>-87.69747                                                                 </td><td>casual                                                                    </td><td> 563                                                                      </td><td><span style=white-space:pre-wrap>Monday  </span>                          </td><td>2022 - 06 (Jun)                                                           </td><td>13                                                                        </td></tr>\n",
       "\t<tr><td>5D899636D3334ED5                                                          </td><td>classic_bike                                                              </td><td>2022-06-27 16:01:13                                                       </td><td>2022-06-27 16:35:56                                                       </td><td><span style=white-space:pre-wrap>California Ave &amp; Division St  </span></td><td><span style=white-space:pre-wrap>13256       </span>                      </td><td><span style=white-space:pre-wrap>California Ave &amp; Division St  </span></td><td><span style=white-space:pre-wrap>13256       </span>                      </td><td>41.90303                                                                  </td><td>-87.69747                                                                 </td><td>41.90303                                                                  </td><td>-87.69747                                                                 </td><td>casual                                                                    </td><td>2083                                                                      </td><td><span style=white-space:pre-wrap>Monday  </span>                          </td><td>2022 - 06 (Jun)                                                           </td><td>18                                                                        </td></tr>\n",
       "\t<tr><td>32C67769462EDF7B                                                          </td><td>classic_bike                                                              </td><td>2022-06-20 16:24:51                                                       </td><td>2022-06-20 16:33:39                                                       </td><td><span style=white-space:pre-wrap>California Ave &amp; Division St  </span></td><td><span style=white-space:pre-wrap>13256       </span>                      </td><td>California Ave &amp; Milwaukee Ave                                        </td><td><span style=white-space:pre-wrap>13084       </span>                      </td><td>41.90303                                                                  </td><td>-87.69747                                                                 </td><td>41.92269                                                                  </td><td>-87.69715                                                                 </td><td>casual                                                                    </td><td> 528                                                                      </td><td><span style=white-space:pre-wrap>Monday  </span>                          </td><td>2022 - 06 (Jun)                                                           </td><td>18                                                                        </td></tr>\n",
       "\t<tr><td>ED5BCFCCF7BC19E0                                                          </td><td>electric_bike                                                             </td><td>2022-06-20 17:12:43                                                       </td><td>2022-06-20 18:22:51                                                       </td><td><span style=white-space:pre-wrap>Morgan Ave &amp; 14th Pl          </span></td><td>TA1306000002                                                              </td><td><span style=white-space:pre-wrap>Morgan Ave &amp; 14th Pl          </span></td><td>TA1306000002                                                              </td><td>41.86242                                                                  </td><td>-87.65116                                                                 </td><td>41.86238                                                                  </td><td>-87.65106                                                                 </td><td>casual                                                                    </td><td>4208                                                                      </td><td><span style=white-space:pre-wrap>Monday  </span>                          </td><td>2022 - 06 (Jun)                                                           </td><td>19                                                                        </td></tr>\n",
       "</tbody>\n",
       "</table>\n"
      ],
      "text/latex": [
       "\\begin{tabular}{r|lllllllllllllllll}\n",
       " ride\\_id & bike\\_type & start\\_time & end\\_time & start\\_station\\_name & start\\_station\\_id & end\\_station\\_name & end\\_station\\_id & start\\_lat & start\\_lng & end\\_lat & end\\_lng & customer\\_type & ride\\_time & weekday & month & hour\\\\\n",
       "\\hline\n",
       "\t B12AD6565494C368                 & classic\\_bike                   & 2022-06-09 22:28:32              & 2022-06-09 22:52:17              & California Ave \\& Milwaukee Ave & 13084                            & California Ave \\& Milwaukee Ave & 13084                            & 41.92269                         & -87.69715                        & 41.92269                         & -87.69715                        & casual                           & 1425                             & Thursday                         & 2022 - 06 (Jun)                  & 00                              \\\\\n",
       "\t 76DAD9FC95774B53                 & electric\\_bike                  & 2022-06-26 23:59:44              & 2022-06-27 00:25:26              & Burnham Greenway \\& 105th St    & 20222                            & Burnham Greenway \\& 105th St    & 20222                            & 41.70463                         & -87.52841                        & 41.70458                         & -87.52823                        & casual                           & 1542                             & Sunday                           & 2022 - 06 (Jun)                  & 01                              \\\\\n",
       "\t 47DE68ACCA138C13                 & electric\\_bike                  & 2022-06-27 11:40:53              & 2022-06-27 11:50:16              & Wood St \\& Chicago Ave          & 637                              & California Ave \\& Division St   & 13256                            & 41.89561                         & -87.67210                        & 41.90303                         & -87.69747                        & casual                           &  563                             & Monday                           & 2022 - 06 (Jun)                  & 13                              \\\\\n",
       "\t 5D899636D3334ED5                 & classic\\_bike                   & 2022-06-27 16:01:13              & 2022-06-27 16:35:56              & California Ave \\& Division St   & 13256                            & California Ave \\& Division St   & 13256                            & 41.90303                         & -87.69747                        & 41.90303                         & -87.69747                        & casual                           & 2083                             & Monday                           & 2022 - 06 (Jun)                  & 18                              \\\\\n",
       "\t 32C67769462EDF7B                 & classic\\_bike                   & 2022-06-20 16:24:51              & 2022-06-20 16:33:39              & California Ave \\& Division St   & 13256                            & California Ave \\& Milwaukee Ave & 13084                            & 41.90303                         & -87.69747                        & 41.92269                         & -87.69715                        & casual                           &  528                             & Monday                           & 2022 - 06 (Jun)                  & 18                              \\\\\n",
       "\t ED5BCFCCF7BC19E0                 & electric\\_bike                  & 2022-06-20 17:12:43              & 2022-06-20 18:22:51              & Morgan Ave \\& 14th Pl           & TA1306000002                     & Morgan Ave \\& 14th Pl           & TA1306000002                     & 41.86242                         & -87.65116                        & 41.86238                         & -87.65106                        & casual                           & 4208                             & Monday                           & 2022 - 06 (Jun)                  & 19                              \\\\\n",
       "\\end{tabular}\n"
      ],
      "text/markdown": [
       "\n",
       "| ride_id | bike_type | start_time | end_time | start_station_name | start_station_id | end_station_name | end_station_id | start_lat | start_lng | end_lat | end_lng | customer_type | ride_time | weekday | month | hour |\n",
       "|---|---|---|---|---|---|---|---|---|---|---|---|---|---|---|---|---|\n",
       "| B12AD6565494C368               | classic_bike                   | 2022-06-09 22:28:32            | 2022-06-09 22:52:17            | California Ave & Milwaukee Ave | 13084                          | California Ave & Milwaukee Ave | 13084                          | 41.92269                       | -87.69715                      | 41.92269                       | -87.69715                      | casual                         | 1425                           | Thursday                       | 2022 - 06 (Jun)                | 00                             |\n",
       "| 76DAD9FC95774B53               | electric_bike                  | 2022-06-26 23:59:44            | 2022-06-27 00:25:26            | Burnham Greenway & 105th St    | 20222                          | Burnham Greenway & 105th St    | 20222                          | 41.70463                       | -87.52841                      | 41.70458                       | -87.52823                      | casual                         | 1542                           | Sunday                         | 2022 - 06 (Jun)                | 01                             |\n",
       "| 47DE68ACCA138C13               | electric_bike                  | 2022-06-27 11:40:53            | 2022-06-27 11:50:16            | Wood St & Chicago Ave          | 637                            | California Ave & Division St   | 13256                          | 41.89561                       | -87.67210                      | 41.90303                       | -87.69747                      | casual                         |  563                           | Monday                         | 2022 - 06 (Jun)                | 13                             |\n",
       "| 5D899636D3334ED5               | classic_bike                   | 2022-06-27 16:01:13            | 2022-06-27 16:35:56            | California Ave & Division St   | 13256                          | California Ave & Division St   | 13256                          | 41.90303                       | -87.69747                      | 41.90303                       | -87.69747                      | casual                         | 2083                           | Monday                         | 2022 - 06 (Jun)                | 18                             |\n",
       "| 32C67769462EDF7B               | classic_bike                   | 2022-06-20 16:24:51            | 2022-06-20 16:33:39            | California Ave & Division St   | 13256                          | California Ave & Milwaukee Ave | 13084                          | 41.90303                       | -87.69747                      | 41.92269                       | -87.69715                      | casual                         |  528                           | Monday                         | 2022 - 06 (Jun)                | 18                             |\n",
       "| ED5BCFCCF7BC19E0               | electric_bike                  | 2022-06-20 17:12:43            | 2022-06-20 18:22:51            | Morgan Ave & 14th Pl           | TA1306000002                   | Morgan Ave & 14th Pl           | TA1306000002                   | 41.86242                       | -87.65116                      | 41.86238                       | -87.65106                      | casual                         | 4208                           | Monday                         | 2022 - 06 (Jun)                | 19                             |\n",
       "\n"
      ],
      "text/plain": [
       "  ride_id          bike_type     start_time          end_time           \n",
       "1 B12AD6565494C368 classic_bike  2022-06-09 22:28:32 2022-06-09 22:52:17\n",
       "2 76DAD9FC95774B53 electric_bike 2022-06-26 23:59:44 2022-06-27 00:25:26\n",
       "3 47DE68ACCA138C13 electric_bike 2022-06-27 11:40:53 2022-06-27 11:50:16\n",
       "4 5D899636D3334ED5 classic_bike  2022-06-27 16:01:13 2022-06-27 16:35:56\n",
       "5 32C67769462EDF7B classic_bike  2022-06-20 16:24:51 2022-06-20 16:33:39\n",
       "6 ED5BCFCCF7BC19E0 electric_bike 2022-06-20 17:12:43 2022-06-20 18:22:51\n",
       "  start_station_name             start_station_id\n",
       "1 California Ave & Milwaukee Ave 13084           \n",
       "2 Burnham Greenway & 105th St    20222           \n",
       "3 Wood St & Chicago Ave          637             \n",
       "4 California Ave & Division St   13256           \n",
       "5 California Ave & Division St   13256           \n",
       "6 Morgan Ave & 14th Pl           TA1306000002    \n",
       "  end_station_name               end_station_id start_lat start_lng end_lat \n",
       "1 California Ave & Milwaukee Ave 13084          41.92269  -87.69715 41.92269\n",
       "2 Burnham Greenway & 105th St    20222          41.70463  -87.52841 41.70458\n",
       "3 California Ave & Division St   13256          41.89561  -87.67210 41.90303\n",
       "4 California Ave & Division St   13256          41.90303  -87.69747 41.90303\n",
       "5 California Ave & Milwaukee Ave 13084          41.90303  -87.69747 41.92269\n",
       "6 Morgan Ave & 14th Pl           TA1306000002   41.86242  -87.65116 41.86238\n",
       "  end_lng   customer_type ride_time weekday  month           hour\n",
       "1 -87.69715 casual        1425      Thursday 2022 - 06 (Jun) 00  \n",
       "2 -87.52823 casual        1542      Sunday   2022 - 06 (Jun) 01  \n",
       "3 -87.69747 casual         563      Monday   2022 - 06 (Jun) 13  \n",
       "4 -87.69747 casual        2083      Monday   2022 - 06 (Jun) 18  \n",
       "5 -87.69715 casual         528      Monday   2022 - 06 (Jun) 18  \n",
       "6 -87.65106 casual        4208      Monday   2022 - 06 (Jun) 19  "
      ]
     },
     "metadata": {},
     "output_type": "display_data"
    }
   ],
   "source": [
    "head(trip_data)"
   ]
  },
  {
   "cell_type": "markdown",
   "id": "8fa19c3b",
   "metadata": {},
   "source": [
    "First of all I got the right names of the weekdays.\n",
    "\n",
    "* Oh!, I saw something when exploring the data in the last cell:\n",
    "    \n",
    "    Some **ride_time**'s values are really short i.e.: 2secs , 43secs. And I think that bike_ride 's  time worth more time :).  Maybe it was someone making sure the bike \n",
    "         locked at the station, change his mind about the ride or the bike was up for checking by Divvy(the company owns the bikes).\n",
    "         \n",
    "**I think a good solution we can apply here is that we delete every record that got less than 1 minute ride_time**"
   ]
  },
  {
   "cell_type": "code",
   "execution_count": 123,
   "id": "c2f104f0",
   "metadata": {},
   "outputs": [],
   "source": [
    "trip_data <- filter(trip_data, ride_time >= 60)"
   ]
  },
  {
   "cell_type": "code",
   "execution_count": 124,
   "id": "d416b2b4",
   "metadata": {},
   "outputs": [
    {
     "name": "stdout",
     "output_type": "stream",
     "text": [
      "Observations: 4,403,180\n",
      "Variables: 17\n",
      "$ ride_id            <chr> \"B12AD6565494C368\", \"76DAD9FC95774B53\", \"47DE68A...\n",
      "$ bike_type          <chr> \"classic_bike\", \"electric_bike\", \"electric_bike\"...\n",
      "$ start_time         <dttm> 2022-06-09 22:28:32, 2022-06-26 23:59:44, 2022-...\n",
      "$ end_time           <dttm> 2022-06-09 22:52:17, 2022-06-27 00:25:26, 2022-...\n",
      "$ start_station_name <chr> \"California Ave & Milwaukee Ave\", \"Burnham Green...\n",
      "$ start_station_id   <chr> \"13084\", \"20222\", \"637\", \"13256\", \"13256\", \"TA13...\n",
      "$ end_station_name   <chr> \"California Ave & Milwaukee Ave\", \"Burnham Green...\n",
      "$ end_station_id     <chr> \"13084\", \"20222\", \"13256\", \"13256\", \"13084\", \"TA...\n",
      "$ start_lat          <dbl> 41.92269, 41.70463, 41.89561, 41.90303, 41.90303...\n",
      "$ start_lng          <dbl> -87.69715, -87.52841, -87.67210, -87.69747, -87....\n",
      "$ end_lat            <dbl> 41.92269, 41.70458, 41.90303, 41.90303, 41.92269...\n",
      "$ end_lng            <dbl> -87.69715, -87.52823, -87.69747, -87.69747, -87....\n",
      "$ customer_type      <chr> \"casual\", \"casual\", \"casual\", \"casual\", \"casual\"...\n",
      "$ ride_time          <dbl> 1425, 1542, 563, 2083, 528, 4208, 6723, 6759, 35...\n",
      "$ weekday            <chr> \"Thursday\", \"Sunday\", \"Monday\", \"Monday\", \"Monda...\n",
      "$ month              <chr> \"2022 - 06 (Jun)\", \"2022 - 06 (Jun)\", \"2022 - 06...\n",
      "$ hour               <chr> \"00\", \"01\", \"13\", \"18\", \"18\", \"19\", \"13\", \"13\", ...\n"
     ]
    }
   ],
   "source": [
    "glimpse(trip_data)"
   ]
  },
  {
   "cell_type": "markdown",
   "id": "b7d5e794",
   "metadata": {},
   "source": [
    "* Convert ride_time column to numeric (in seconds)"
   ]
  },
  {
   "cell_type": "code",
   "execution_count": 125,
   "id": "24a28c1f",
   "metadata": {},
   "outputs": [
    {
     "data": {
      "text/html": [
       "60"
      ],
      "text/latex": [
       "60"
      ],
      "text/markdown": [
       "60"
      ],
      "text/plain": [
       "[1] 60"
      ]
     },
     "metadata": {},
     "output_type": "display_data"
    }
   ],
   "source": [
    "trip_data$ride_time <- as.numeric(trip_data$ride_time)\n",
    "min(trip_data$ride_time)"
   ]
  },
  {
   "cell_type": "markdown",
   "id": "a2043ae4",
   "metadata": {},
   "source": [
    "#### Now we can step to the Analyze phase\n",
    "----\n",
    "## Analyze Phase  \n",
    "In this phase we will perform some calculations:\n",
    "* summarizing the data as whole"
   ]
  },
  {
   "cell_type": "code",
   "execution_count": 126,
   "id": "8468ac10",
   "metadata": {},
   "outputs": [
    {
     "data": {
      "text/plain": [
       "   ride_id           bike_type           start_time                 \n",
       " Length:4403180     Length:4403180     Min.   :2022-06-01 00:00:04  \n",
       " Class :character   Class :character   1st Qu.:2022-07-25 16:03:11  \n",
       " Mode  :character   Mode  :character   Median :2022-09-21 08:19:47  \n",
       "                                       Mean   :2022-10-26 12:13:19  \n",
       "                                       3rd Qu.:2023-02-02 17:19:20  \n",
       "                                       Max.   :2023-05-31 23:59:49  \n",
       "    end_time                   start_station_name start_station_id  \n",
       " Min.   :2022-06-01 00:02:38   Length:4403180     Length:4403180    \n",
       " 1st Qu.:2022-07-25 16:23:32   Class :character   Class :character  \n",
       " Median :2022-09-21 08:31:58   Mode  :character   Mode  :character  \n",
       " Mean   :2022-10-26 12:29:56                                        \n",
       " 3rd Qu.:2023-02-02 17:30:10                                        \n",
       " Max.   :2023-06-07 23:04:26                                        \n",
       " end_station_name   end_station_id       start_lat       start_lng     \n",
       " Length:4403180     Length:4403180     Min.   :41.65   Min.   :-87.84  \n",
       " Class :character   Class :character   1st Qu.:41.88   1st Qu.:-87.66  \n",
       " Mode  :character   Mode  :character   Median :41.90   Median :-87.64  \n",
       "                                       Mean   :41.90   Mean   :-87.64  \n",
       "                                       3rd Qu.:41.93   3rd Qu.:-87.63  \n",
       "                                       Max.   :42.06   Max.   :-87.53  \n",
       "    end_lat         end_lng       customer_type        ride_time      \n",
       " Min.   : 0.00   Min.   :-87.84   Length:4403180     Min.   :     60  \n",
       " 1st Qu.:41.88   1st Qu.:-87.66   Class :character   1st Qu.:    361  \n",
       " Median :41.90   Median :-87.64   Mode  :character   Median :    622  \n",
       " Mean   :41.90   Mean   :-87.65                      Mean   :    997  \n",
       " 3rd Qu.:41.93   3rd Qu.:-87.63                      3rd Qu.:   1106  \n",
       " Max.   :42.06   Max.   :  0.00                      Max.   :1922127  \n",
       "   weekday             month               hour          \n",
       " Length:4403180     Length:4403180     Length:4403180    \n",
       " Class :character   Class :character   Class :character  \n",
       " Mode  :character   Mode  :character   Mode  :character  \n",
       "                                                         \n",
       "                                                         \n",
       "                                                         "
      ]
     },
     "metadata": {},
     "output_type": "display_data"
    }
   ],
   "source": [
    "summary(trip_data)"
   ]
  },
  {
   "cell_type": "markdown",
   "id": "0137f9d2",
   "metadata": {},
   "source": [
    "Conduct Descriptive Analysis on Both `ride_time` and `customer_type`  \n",
    "Also considering any other factors that could affect `ride_time` like: `bike_type`"
   ]
  },
  {
   "cell_type": "code",
   "execution_count": 127,
   "id": "78e7c157",
   "metadata": {
    "scrolled": false
   },
   "outputs": [
    {
     "name": "stdout",
     "output_type": "stream",
     "text": [
      "[1] \"Mean\"\n"
     ]
    },
    {
     "data": {
      "text/html": [
       "<table>\n",
       "<thead><tr><th scope=col>trip_data$customer_type</th><th scope=col>trip_data$ride_time</th></tr></thead>\n",
       "<tbody>\n",
       "\t<tr><td>casual  </td><td>1386.159</td></tr>\n",
       "\t<tr><td>member  </td><td> 747.934</td></tr>\n",
       "</tbody>\n",
       "</table>\n"
      ],
      "text/latex": [
       "\\begin{tabular}{r|ll}\n",
       " trip\\_data\\$customer\\_type & trip\\_data\\$ride\\_time\\\\\n",
       "\\hline\n",
       "\t casual   & 1386.159\\\\\n",
       "\t member   &  747.934\\\\\n",
       "\\end{tabular}\n"
      ],
      "text/markdown": [
       "\n",
       "| trip_data$customer_type | trip_data$ride_time |\n",
       "|---|---|\n",
       "| casual   | 1386.159 |\n",
       "| member   |  747.934 |\n",
       "\n"
      ],
      "text/plain": [
       "  trip_data$customer_type trip_data$ride_time\n",
       "1 casual                  1386.159           \n",
       "2 member                   747.934           "
      ]
     },
     "metadata": {},
     "output_type": "display_data"
    },
    {
     "name": "stdout",
     "output_type": "stream",
     "text": [
      "[1] \"Median\"\n"
     ]
    },
    {
     "data": {
      "text/html": [
       "<table>\n",
       "<thead><tr><th scope=col>trip_data$customer_type</th><th scope=col>trip_data$ride_time</th></tr></thead>\n",
       "<tbody>\n",
       "\t<tr><td>casual</td><td>800   </td></tr>\n",
       "\t<tr><td>member</td><td>537   </td></tr>\n",
       "</tbody>\n",
       "</table>\n"
      ],
      "text/latex": [
       "\\begin{tabular}{r|ll}\n",
       " trip\\_data\\$customer\\_type & trip\\_data\\$ride\\_time\\\\\n",
       "\\hline\n",
       "\t casual & 800   \\\\\n",
       "\t member & 537   \\\\\n",
       "\\end{tabular}\n"
      ],
      "text/markdown": [
       "\n",
       "| trip_data$customer_type | trip_data$ride_time |\n",
       "|---|---|\n",
       "| casual | 800    |\n",
       "| member | 537    |\n",
       "\n"
      ],
      "text/plain": [
       "  trip_data$customer_type trip_data$ride_time\n",
       "1 casual                  800                \n",
       "2 member                  537                "
      ]
     },
     "metadata": {},
     "output_type": "display_data"
    },
    {
     "name": "stdout",
     "output_type": "stream",
     "text": [
      "[1] \"Max\"\n"
     ]
    },
    {
     "data": {
      "text/html": [
       "<table>\n",
       "<thead><tr><th scope=col>trip_data$customer_type</th><th scope=col>trip_data$ride_time</th></tr></thead>\n",
       "<tbody>\n",
       "\t<tr><td>casual </td><td>1922127</td></tr>\n",
       "\t<tr><td>member </td><td>  89872</td></tr>\n",
       "</tbody>\n",
       "</table>\n"
      ],
      "text/latex": [
       "\\begin{tabular}{r|ll}\n",
       " trip\\_data\\$customer\\_type & trip\\_data\\$ride\\_time\\\\\n",
       "\\hline\n",
       "\t casual  & 1922127\\\\\n",
       "\t member  &   89872\\\\\n",
       "\\end{tabular}\n"
      ],
      "text/markdown": [
       "\n",
       "| trip_data$customer_type | trip_data$ride_time |\n",
       "|---|---|\n",
       "| casual  | 1922127 |\n",
       "| member  |   89872 |\n",
       "\n"
      ],
      "text/plain": [
       "  trip_data$customer_type trip_data$ride_time\n",
       "1 casual                  1922127            \n",
       "2 member                    89872            "
      ]
     },
     "metadata": {},
     "output_type": "display_data"
    },
    {
     "name": "stdout",
     "output_type": "stream",
     "text": [
      "[1] \"Min\"\n"
     ]
    },
    {
     "data": {
      "text/html": [
       "<table>\n",
       "<thead><tr><th scope=col>trip_data$customer_type</th><th scope=col>trip_data$ride_time</th></tr></thead>\n",
       "<tbody>\n",
       "\t<tr><td>casual</td><td>60    </td></tr>\n",
       "\t<tr><td>member</td><td>60    </td></tr>\n",
       "</tbody>\n",
       "</table>\n"
      ],
      "text/latex": [
       "\\begin{tabular}{r|ll}\n",
       " trip\\_data\\$customer\\_type & trip\\_data\\$ride\\_time\\\\\n",
       "\\hline\n",
       "\t casual & 60    \\\\\n",
       "\t member & 60    \\\\\n",
       "\\end{tabular}\n"
      ],
      "text/markdown": [
       "\n",
       "| trip_data$customer_type | trip_data$ride_time |\n",
       "|---|---|\n",
       "| casual | 60     |\n",
       "| member | 60     |\n",
       "\n"
      ],
      "text/plain": [
       "  trip_data$customer_type trip_data$ride_time\n",
       "1 casual                  60                 \n",
       "2 member                  60                 "
      ]
     },
     "metadata": {},
     "output_type": "display_data"
    }
   ],
   "source": [
    "print(\"Mean\")\n",
    "aggregate(trip_data$ride_time ~ trip_data$customer_type, FUN = mean)\n",
    "print(\"Median\")\n",
    "aggregate(trip_data$ride_time ~ trip_data$customer_type, FUN = median)\n",
    "print(\"Max\")\n",
    "aggregate(trip_data$ride_time ~ trip_data$customer_type, FUN = max)\n",
    "print(\"Min\")\n",
    "aggregate(trip_data$ride_time ~ trip_data$customer_type, FUN = min)"
   ]
  },
  {
   "cell_type": "markdown",
   "id": "4341cdc4",
   "metadata": {},
   "source": [
    "* Find each customer type count in our data"
   ]
  },
  {
   "cell_type": "code",
   "execution_count": 88,
   "id": "59932d68",
   "metadata": {},
   "outputs": [
    {
     "data": {
      "text/html": [
       "<table>\n",
       "<thead><tr><th scope=col>customer_type</th><th scope=col>count</th><th scope=col>%</th></tr></thead>\n",
       "<tbody>\n",
       "\t<tr><td>casual </td><td>1718350</td><td>39.0252</td></tr>\n",
       "\t<tr><td>member </td><td>2684830</td><td>60.9748</td></tr>\n",
       "</tbody>\n",
       "</table>\n"
      ],
      "text/latex": [
       "\\begin{tabular}{r|lll}\n",
       " customer\\_type & count & \\%\\\\\n",
       "\\hline\n",
       "\t casual  & 1718350 & 39.0252\\\\\n",
       "\t member  & 2684830 & 60.9748\\\\\n",
       "\\end{tabular}\n"
      ],
      "text/markdown": [
       "\n",
       "| customer_type | count | % |\n",
       "|---|---|---|\n",
       "| casual  | 1718350 | 39.0252 |\n",
       "| member  | 2684830 | 60.9748 |\n",
       "\n"
      ],
      "text/plain": [
       "  customer_type count   %      \n",
       "1 casual        1718350 39.0252\n",
       "2 member        2684830 60.9748"
      ]
     },
     "metadata": {},
     "output_type": "display_data"
    }
   ],
   "source": [
    "trip_data %>% \n",
    "    group_by(customer_type)  %>% \n",
    "    summarise(count = length (ride_id), '%' = (length(ride_id)/ nrow(trip_data)) * 100)"
   ]
  },
  {
   "cell_type": "code",
   "execution_count": 93,
   "id": "0bcfbfcf",
   "metadata": {},
   "outputs": [
    {
     "data": {
      "text/html": [
       "<table>\n",
       "<thead><tr><th scope=col>customer_type</th><th scope=col>weekday</th><th scope=col>num_of_rides</th><th scope=col>avg_duration</th></tr></thead>\n",
       "<tbody>\n",
       "\t<tr><td>casual   </td><td>Sunday   </td><td>284612   </td><td>1596.8292</td></tr>\n",
       "\t<tr><td>casual   </td><td>Monday   </td><td>191664   </td><td>1392.2276</td></tr>\n",
       "\t<tr><td>casual   </td><td>Tuesday  </td><td>198959   </td><td>1245.6676</td></tr>\n",
       "\t<tr><td>casual   </td><td>Wednesday</td><td>214430   </td><td>1197.0414</td></tr>\n",
       "\t<tr><td>casual   </td><td>Thursday </td><td>229800   </td><td>1230.7811</td></tr>\n",
       "\t<tr><td>casual   </td><td>Friday   </td><td>253829   </td><td>1330.3455</td></tr>\n",
       "\t<tr><td>casual   </td><td>Saturday </td><td>345056   </td><td>1552.0882</td></tr>\n",
       "\t<tr><td>member   </td><td>Sunday   </td><td>296778   </td><td> 835.8823</td></tr>\n",
       "\t<tr><td>member   </td><td>Monday   </td><td>365980   </td><td> 709.2876</td></tr>\n",
       "\t<tr><td>member   </td><td>Tuesday  </td><td>429276   </td><td> 716.1869</td></tr>\n",
       "\t<tr><td>member   </td><td>Wednesday</td><td>446938   </td><td> 715.9290</td></tr>\n",
       "\t<tr><td>member   </td><td>Thursday </td><td>431938   </td><td> 722.7401</td></tr>\n",
       "\t<tr><td>member   </td><td>Friday   </td><td>378190   </td><td> 737.2754</td></tr>\n",
       "\t<tr><td>member   </td><td>Saturday </td><td>335730   </td><td> 839.9376</td></tr>\n",
       "</tbody>\n",
       "</table>\n"
      ],
      "text/latex": [
       "\\begin{tabular}{r|llll}\n",
       " customer\\_type & weekday & num\\_of\\_rides & avg\\_duration\\\\\n",
       "\\hline\n",
       "\t casual    & Sunday    & 284612    & 1596.8292\\\\\n",
       "\t casual    & Monday    & 191664    & 1392.2276\\\\\n",
       "\t casual    & Tuesday   & 198959    & 1245.6676\\\\\n",
       "\t casual    & Wednesday & 214430    & 1197.0414\\\\\n",
       "\t casual    & Thursday  & 229800    & 1230.7811\\\\\n",
       "\t casual    & Friday    & 253829    & 1330.3455\\\\\n",
       "\t casual    & Saturday  & 345056    & 1552.0882\\\\\n",
       "\t member    & Sunday    & 296778    &  835.8823\\\\\n",
       "\t member    & Monday    & 365980    &  709.2876\\\\\n",
       "\t member    & Tuesday   & 429276    &  716.1869\\\\\n",
       "\t member    & Wednesday & 446938    &  715.9290\\\\\n",
       "\t member    & Thursday  & 431938    &  722.7401\\\\\n",
       "\t member    & Friday    & 378190    &  737.2754\\\\\n",
       "\t member    & Saturday  & 335730    &  839.9376\\\\\n",
       "\\end{tabular}\n"
      ],
      "text/markdown": [
       "\n",
       "| customer_type | weekday | num_of_rides | avg_duration |\n",
       "|---|---|---|---|\n",
       "| casual    | Sunday    | 284612    | 1596.8292 |\n",
       "| casual    | Monday    | 191664    | 1392.2276 |\n",
       "| casual    | Tuesday   | 198959    | 1245.6676 |\n",
       "| casual    | Wednesday | 214430    | 1197.0414 |\n",
       "| casual    | Thursday  | 229800    | 1230.7811 |\n",
       "| casual    | Friday    | 253829    | 1330.3455 |\n",
       "| casual    | Saturday  | 345056    | 1552.0882 |\n",
       "| member    | Sunday    | 296778    |  835.8823 |\n",
       "| member    | Monday    | 365980    |  709.2876 |\n",
       "| member    | Tuesday   | 429276    |  716.1869 |\n",
       "| member    | Wednesday | 446938    |  715.9290 |\n",
       "| member    | Thursday  | 431938    |  722.7401 |\n",
       "| member    | Friday    | 378190    |  737.2754 |\n",
       "| member    | Saturday  | 335730    |  839.9376 |\n",
       "\n"
      ],
      "text/plain": [
       "   customer_type weekday   num_of_rides avg_duration\n",
       "1  casual        Sunday    284612       1596.8292   \n",
       "2  casual        Monday    191664       1392.2276   \n",
       "3  casual        Tuesday   198959       1245.6676   \n",
       "4  casual        Wednesday 214430       1197.0414   \n",
       "5  casual        Thursday  229800       1230.7811   \n",
       "6  casual        Friday    253829       1330.3455   \n",
       "7  casual        Saturday  345056       1552.0882   \n",
       "8  member        Sunday    296778        835.8823   \n",
       "9  member        Monday    365980        709.2876   \n",
       "10 member        Tuesday   429276        716.1869   \n",
       "11 member        Wednesday 446938        715.9290   \n",
       "12 member        Thursday  431938        722.7401   \n",
       "13 member        Friday    378190        737.2754   \n",
       "14 member        Saturday  335730        839.9376   "
      ]
     },
     "metadata": {},
     "output_type": "display_data"
    }
   ],
   "source": [
    "# Ridership data by type each weekday\n",
    "trip_data %>% \n",
    "    group_by(customer_type, weekday) %>% \n",
    "    summarise(num_of_rides = n(), avg_duration = mean(ride_time)) %>% \n",
    "    arrange(customer_type, weekday)"
   ]
  },
  {
   "cell_type": "code",
   "execution_count": 94,
   "id": "c74c8799",
   "metadata": {},
   "outputs": [
    {
     "data": {
      "text/html": [
       "<table>\n",
       "<thead><tr><th scope=col>customer_type</th><th scope=col>month</th><th scope=col>num_of_rides</th><th scope=col>avg_duration</th></tr></thead>\n",
       "<tbody>\n",
       "\t<tr><td>casual         </td><td>2022 - 06 (Jun)</td><td>287553         </td><td>1524.2918      </td></tr>\n",
       "\t<tr><td>casual         </td><td>2022 - 07 (Jul)</td><td>306612         </td><td>1529.9960      </td></tr>\n",
       "\t<tr><td>casual         </td><td>2022 - 08 (Aug)</td><td>265748         </td><td>1419.4459      </td></tr>\n",
       "\t<tr><td>casual         </td><td>2022 - 09 (Sep)</td><td>217485         </td><td>1328.4413      </td></tr>\n",
       "\t<tr><td>casual         </td><td>2022 - 10 (Oct)</td><td>148865         </td><td>1247.9273      </td></tr>\n",
       "\t<tr><td>casual         </td><td>2022 - 11 (Nov)</td><td> 72366         </td><td>1051.1038      </td></tr>\n",
       "\t<tr><td>casual         </td><td>2022 - 12 (Dec)</td><td> 30979         </td><td> 905.1109      </td></tr>\n",
       "\t<tr><td>casual         </td><td>2023 - 01 (Jan)</td><td> 29021         </td><td> 910.6819      </td></tr>\n",
       "\t<tr><td>casual         </td><td>2023 - 02 (Feb)</td><td> 32142         </td><td>1080.7493      </td></tr>\n",
       "\t<tr><td>casual         </td><td>2023 - 03 (Mar)</td><td> 45739         </td><td>1025.6859      </td></tr>\n",
       "\t<tr><td>casual         </td><td>2023 - 04 (Apr)</td><td>108163         </td><td>1386.4900      </td></tr>\n",
       "\t<tr><td>casual         </td><td>2023 - 05 (May)</td><td>173677         </td><td>1499.4615      </td></tr>\n",
       "\t<tr><td>member         </td><td>2022 - 06 (Jun)</td><td>322256         </td><td> 835.9131      </td></tr>\n",
       "\t<tr><td>member         </td><td>2022 - 07 (Jul)</td><td>324307         </td><td> 826.3920      </td></tr>\n",
       "\t<tr><td>member         </td><td>2022 - 08 (Aug)</td><td>328577         </td><td> 801.7613      </td></tr>\n",
       "\t<tr><td>member         </td><td>2022 - 09 (Sep)</td><td>307844         </td><td> 772.4892      </td></tr>\n",
       "\t<tr><td>member         </td><td>2022 - 10 (Oct)</td><td>257460         </td><td> 714.8877      </td></tr>\n",
       "\t<tr><td>member         </td><td>2022 - 11 (Nov)</td><td>178766         </td><td> 661.7614      </td></tr>\n",
       "\t<tr><td>member         </td><td>2022 - 12 (Dec)</td><td>101634         </td><td> 625.1340      </td></tr>\n",
       "\t<tr><td>member         </td><td>2023 - 01 (Jan)</td><td>115445         </td><td> 616.3382      </td></tr>\n",
       "\t<tr><td>member         </td><td>2023 - 02 (Feb)</td><td>113712         </td><td> 641.5857      </td></tr>\n",
       "\t<tr><td>member         </td><td>2023 - 03 (Mar)</td><td>148811         </td><td> 629.3779      </td></tr>\n",
       "\t<tr><td>member         </td><td>2023 - 04 (Apr)</td><td>206758         </td><td> 715.7310      </td></tr>\n",
       "\t<tr><td>member         </td><td>2023 - 05 (May)</td><td>279260         </td><td> 779.9381      </td></tr>\n",
       "</tbody>\n",
       "</table>\n"
      ],
      "text/latex": [
       "\\begin{tabular}{r|llll}\n",
       " customer\\_type & month & num\\_of\\_rides & avg\\_duration\\\\\n",
       "\\hline\n",
       "\t casual          & 2022 - 06 (Jun) & 287553          & 1524.2918      \\\\\n",
       "\t casual          & 2022 - 07 (Jul) & 306612          & 1529.9960      \\\\\n",
       "\t casual          & 2022 - 08 (Aug) & 265748          & 1419.4459      \\\\\n",
       "\t casual          & 2022 - 09 (Sep) & 217485          & 1328.4413      \\\\\n",
       "\t casual          & 2022 - 10 (Oct) & 148865          & 1247.9273      \\\\\n",
       "\t casual          & 2022 - 11 (Nov) &  72366          & 1051.1038      \\\\\n",
       "\t casual          & 2022 - 12 (Dec) &  30979          &  905.1109      \\\\\n",
       "\t casual          & 2023 - 01 (Jan) &  29021          &  910.6819      \\\\\n",
       "\t casual          & 2023 - 02 (Feb) &  32142          & 1080.7493      \\\\\n",
       "\t casual          & 2023 - 03 (Mar) &  45739          & 1025.6859      \\\\\n",
       "\t casual          & 2023 - 04 (Apr) & 108163          & 1386.4900      \\\\\n",
       "\t casual          & 2023 - 05 (May) & 173677          & 1499.4615      \\\\\n",
       "\t member          & 2022 - 06 (Jun) & 322256          &  835.9131      \\\\\n",
       "\t member          & 2022 - 07 (Jul) & 324307          &  826.3920      \\\\\n",
       "\t member          & 2022 - 08 (Aug) & 328577          &  801.7613      \\\\\n",
       "\t member          & 2022 - 09 (Sep) & 307844          &  772.4892      \\\\\n",
       "\t member          & 2022 - 10 (Oct) & 257460          &  714.8877      \\\\\n",
       "\t member          & 2022 - 11 (Nov) & 178766          &  661.7614      \\\\\n",
       "\t member          & 2022 - 12 (Dec) & 101634          &  625.1340      \\\\\n",
       "\t member          & 2023 - 01 (Jan) & 115445          &  616.3382      \\\\\n",
       "\t member          & 2023 - 02 (Feb) & 113712          &  641.5857      \\\\\n",
       "\t member          & 2023 - 03 (Mar) & 148811          &  629.3779      \\\\\n",
       "\t member          & 2023 - 04 (Apr) & 206758          &  715.7310      \\\\\n",
       "\t member          & 2023 - 05 (May) & 279260          &  779.9381      \\\\\n",
       "\\end{tabular}\n"
      ],
      "text/markdown": [
       "\n",
       "| customer_type | month | num_of_rides | avg_duration |\n",
       "|---|---|---|---|\n",
       "| casual          | 2022 - 06 (Jun) | 287553          | 1524.2918       |\n",
       "| casual          | 2022 - 07 (Jul) | 306612          | 1529.9960       |\n",
       "| casual          | 2022 - 08 (Aug) | 265748          | 1419.4459       |\n",
       "| casual          | 2022 - 09 (Sep) | 217485          | 1328.4413       |\n",
       "| casual          | 2022 - 10 (Oct) | 148865          | 1247.9273       |\n",
       "| casual          | 2022 - 11 (Nov) |  72366          | 1051.1038       |\n",
       "| casual          | 2022 - 12 (Dec) |  30979          |  905.1109       |\n",
       "| casual          | 2023 - 01 (Jan) |  29021          |  910.6819       |\n",
       "| casual          | 2023 - 02 (Feb) |  32142          | 1080.7493       |\n",
       "| casual          | 2023 - 03 (Mar) |  45739          | 1025.6859       |\n",
       "| casual          | 2023 - 04 (Apr) | 108163          | 1386.4900       |\n",
       "| casual          | 2023 - 05 (May) | 173677          | 1499.4615       |\n",
       "| member          | 2022 - 06 (Jun) | 322256          |  835.9131       |\n",
       "| member          | 2022 - 07 (Jul) | 324307          |  826.3920       |\n",
       "| member          | 2022 - 08 (Aug) | 328577          |  801.7613       |\n",
       "| member          | 2022 - 09 (Sep) | 307844          |  772.4892       |\n",
       "| member          | 2022 - 10 (Oct) | 257460          |  714.8877       |\n",
       "| member          | 2022 - 11 (Nov) | 178766          |  661.7614       |\n",
       "| member          | 2022 - 12 (Dec) | 101634          |  625.1340       |\n",
       "| member          | 2023 - 01 (Jan) | 115445          |  616.3382       |\n",
       "| member          | 2023 - 02 (Feb) | 113712          |  641.5857       |\n",
       "| member          | 2023 - 03 (Mar) | 148811          |  629.3779       |\n",
       "| member          | 2023 - 04 (Apr) | 206758          |  715.7310       |\n",
       "| member          | 2023 - 05 (May) | 279260          |  779.9381       |\n",
       "\n"
      ],
      "text/plain": [
       "   customer_type month           num_of_rides avg_duration\n",
       "1  casual        2022 - 06 (Jun) 287553       1524.2918   \n",
       "2  casual        2022 - 07 (Jul) 306612       1529.9960   \n",
       "3  casual        2022 - 08 (Aug) 265748       1419.4459   \n",
       "4  casual        2022 - 09 (Sep) 217485       1328.4413   \n",
       "5  casual        2022 - 10 (Oct) 148865       1247.9273   \n",
       "6  casual        2022 - 11 (Nov)  72366       1051.1038   \n",
       "7  casual        2022 - 12 (Dec)  30979        905.1109   \n",
       "8  casual        2023 - 01 (Jan)  29021        910.6819   \n",
       "9  casual        2023 - 02 (Feb)  32142       1080.7493   \n",
       "10 casual        2023 - 03 (Mar)  45739       1025.6859   \n",
       "11 casual        2023 - 04 (Apr) 108163       1386.4900   \n",
       "12 casual        2023 - 05 (May) 173677       1499.4615   \n",
       "13 member        2022 - 06 (Jun) 322256        835.9131   \n",
       "14 member        2022 - 07 (Jul) 324307        826.3920   \n",
       "15 member        2022 - 08 (Aug) 328577        801.7613   \n",
       "16 member        2022 - 09 (Sep) 307844        772.4892   \n",
       "17 member        2022 - 10 (Oct) 257460        714.8877   \n",
       "18 member        2022 - 11 (Nov) 178766        661.7614   \n",
       "19 member        2022 - 12 (Dec) 101634        625.1340   \n",
       "20 member        2023 - 01 (Jan) 115445        616.3382   \n",
       "21 member        2023 - 02 (Feb) 113712        641.5857   \n",
       "22 member        2023 - 03 (Mar) 148811        629.3779   \n",
       "23 member        2023 - 04 (Apr) 206758        715.7310   \n",
       "24 member        2023 - 05 (May) 279260        779.9381   "
      ]
     },
     "metadata": {},
     "output_type": "display_data"
    }
   ],
   "source": [
    "# Ridership data by type each month\n",
    "trip_data %>% \n",
    "    group_by(customer_type, month) %>% \n",
    "    summarise(num_of_rides = n(), avg_duration = mean(ride_time)) %>% \n",
    "    arrange(customer_type, month)"
   ]
  },
  {
   "cell_type": "markdown",
   "id": "0e3be113",
   "metadata": {},
   "source": [
    "We did some small calculations to get a summary of our analysis now we move to the next phase\n",
    "\n",
    "## Share\n",
    "\n",
    "The share phase is about sharing the analysis and visualizations with the stake holders.\n"
   ]
  },
  {
   "cell_type": "code",
   "execution_count": 89,
   "id": "e3c92e5a",
   "metadata": {},
   "outputs": [],
   "source": [
    "# This function help to resize the plots\n",
    "fig <- function(width, heigth){options(repr.plot.width = width, repr.plot.height = heigth)}"
   ]
  },
  {
   "cell_type": "code",
   "execution_count": 90,
   "id": "27a5d210",
   "metadata": {},
   "outputs": [
    {
     "data": {
      "image/png": "[encoded data removed]",
      "text/plain": [
       "plot without title"
      ]
     },
     "metadata": {},
     "output_type": "display_data"
    }
   ],
   "source": [
    "# plot each customer type (casual / member)\n",
    "fig(8,4)\n",
    "customer_percentages <- trip_data %>%\n",
    "  count(customer_type) %>%\n",
    "  mutate(percentage =round( n / sum(n) * 100 , 2))\n",
    "\n",
    "ggplot(data = customer_percentages, aes(x = \"\", y = n , fill = customer_type)) +\n",
    "  geom_bar(width = 1, stat = \"identity\") +\n",
    "  coord_polar(theta = \"y\") +\n",
    "  labs(fill = \"Customer Type\", title = \"Distribution of Customers by Type\") +\n",
    "  geom_text(aes(label = paste0(percentage, \"%\"), angle = 0), position = position_stack(vjust = 0.5))+\n",
    "  theme_minimal()+\n",
    "  theme(axis.title.x = element_blank(), legend.title = element_blank())"
   ]
  },
  {
   "cell_type": "markdown",
   "id": "07f2ba77",
   "metadata": {},
   "source": [
    "As we can see that Member got the bigger portion of the dataset, member ~61% ,casual ~39%"
   ]
  },
  {
   "cell_type": "code",
   "execution_count": 91,
   "id": "fcfdf27d",
   "metadata": {},
   "outputs": [],
   "source": [
    "# Order the days in weekday column to get ordered result like the following: \n",
    "trip_data$weekday <- ordered(trip_data$weekday, levels = c(\"Sunday\", \"Monday\", \"Tuesday\", \"Wednesday\", \"Thursday\", \"Friday\", \"Saturday\"))"
   ]
  },
  {
   "cell_type": "code",
   "execution_count": 115,
   "id": "d6fa7f6b",
   "metadata": {
    "scrolled": false
   },
   "outputs": [
    {
     "data": {
      "image/png": "[encoded data removed]",
      "text/plain": [
       "plot without title"
      ]
     },
     "metadata": {},
     "output_type": "display_data"
    }
   ],
   "source": [
    "# Visualize Number_of_rides by weekdays\n",
    "fig(10,6)\n",
    "trip_data %>% \n",
    "    group_by(customer_type, weekday) %>% \n",
    "    summarise(number_of_rides = n(), average_duration = mean(ride_time)) %>% \n",
    "    arrange(customer_type, weekday) %>% \n",
    "    ggplot(aes(x = weekday , y = number_of_rides, fill = customer_type))+\n",
    "    geom_col(position = position_dodge(width = 0.9))+\n",
    "    labs(x = \"Weekday\", y = \"Number of Rides\", fill = \"Customer Type\", title = \"Number of Rides Per Weekday\")\n"
   ]
  },
  {
   "cell_type": "markdown",
   "id": "0c56810f",
   "metadata": {},
   "source": [
    "We can notice that:\n",
    "* Members have the biggest volume in the data, except saturday. casuals got the most data pionts in saturday.\n",
    "* Casuals have less rides in work days unlike the weekend days.\n",
    "* Members have less rides in weekend days unlike the work days."
   ]
  },
  {
   "cell_type": "code",
   "execution_count": 138,
   "id": "68ea7688",
   "metadata": {
    "scrolled": false
   },
   "outputs": [
    {
     "data": {
      "image/png": "[encoded data removed]",
      "text/plain": [
       "plot without title"
      ]
     },
     "metadata": {},
     "output_type": "display_data"
    }
   ],
   "source": [
    "# Visualize Number_of_rides by Hour\n",
    "fig(10,4)\n",
    "trip_data %>% \n",
    "    group_by(customer_type, hour) %>% \n",
    "    summarise(number_of_rides = n(), average_duration = mean(ride_time)) %>% \n",
    "    arrange(customer_type, hour) %>% \n",
    "    ggplot(aes(x = hour, y =number_of_rides , fill = customer_type))+\n",
    "    geom_col(position = position_dodge(width = 0.9))+\n",
    "    labs(x = \"Hour\", y = \"Number of Rides\", fill = \"Customer Type\", title = \"Number of Rides Per Hour Day\")\n"
   ]
  },
  {
   "cell_type": "markdown",
   "id": "90e4c66d",
   "metadata": {},
   "source": [
    "We can see:\n",
    "* We have more casual riders from 1am to 5am.\n",
    "* The biggest volume of the data is between 5pm and 8pm (maybe because it's end of the work hours).\n",
    "\n",
    "Let's divide the above chart across the all the weekdays "
   ]
  },
  {
   "cell_type": "code",
   "execution_count": 154,
   "id": "0c7651df",
   "metadata": {},
   "outputs": [
    {
     "data": {
      "image/png": "[encoded data removed]",
      "text/plain": [
       "plot without title"
      ]
     },
     "metadata": {},
     "output_type": "display_data"
    }
   ],
   "source": [
    "# Visualize Number_of_rides by Hour per weekday\n",
    "fig(15,8)\n",
    "trip_data %>% \n",
    "    ggplot(aes(hour, fill = customer_type))+\n",
    "    geom_bar()+\n",
    "     labs(x = \"Hour\",y = \"\", title = \"Number of Rides Per hour each weekday\")+\n",
    "    facet_wrap(~weekday)"
   ]
  },
  {
   "cell_type": "markdown",
   "id": "bb9a925a",
   "metadata": {},
   "source": [
    "We will take some interesting **Notes** from this chart:\n",
    "* At the weekend we have smooth distribution of the data, But steep data flow at midweek \n",
    "* During the midweek days we got a big increase of data points from 7am to 10am, then it's gets normal again.\n",
    "* At the weekend we have more casual riders unless the midweek"
   ]
  },
  {
   "cell_type": "code",
   "execution_count": 119,
   "id": "46dba856",
   "metadata": {},
   "outputs": [
    {
     "data": {
      "image/png": "[encoded data removed]",
      "text/plain": [
       "plot without title"
      ]
     },
     "metadata": {},
     "output_type": "display_data"
    }
   ],
   "source": [
    "# Visualize Number_of_rides by months\n",
    "fig(14,6)\n",
    "trip_data %>% \n",
    "    group_by(customer_type, month) %>% \n",
    "    summarise(number_of_rides = n(), average_duration = mean(ride_time)) %>% \n",
    "    arrange(customer_type, month) %>% \n",
    "    ggplot(aes(x = month, y =number_of_rides , fill = customer_type))+\n",
    "    geom_col(position = position_dodge(width = 0.9))+\n",
    "    labs(x = \"Month\", y = \"Number of Rides\", fill = \"Customer Type\", title = \"Number of Rides Per Month\")"
   ]
  },
  {
   "cell_type": "markdown",
   "id": "b7cc9ee0",
   "metadata": {},
   "source": [
    "* Members have more distribution over all months  \n",
    "* The biggest month that got most data points was 2022 - 08 (August) "
   ]
  },
  {
   "cell_type": "code",
   "execution_count": 163,
   "id": "1da4bad9",
   "metadata": {},
   "outputs": [
    {
     "data": {
      "image/png": "[encoded data removed]",
      "text/plain": [
       "plot without title"
      ]
     },
     "metadata": {},
     "output_type": "display_data"
    }
   ],
   "source": [
    "# Visualize average duration by weekdays\n",
    "fig(10,6)\n",
    "trip_data %>% \n",
    "    group_by(customer_type, weekday) %>% \n",
    "    summarise(average_duration = mean(ride_time)) %>% \n",
    "    arrange(customer_type, weekday) %>% \n",
    "    ggplot(aes(x = weekday , y = average_duration, fill = customer_type))+\n",
    "    geom_col(position = position_dodge(width = 0.9))+\n",
    "    labs(x = \"Weekday\", y = \"Average duration (seconds)\", fill = \"Customer Type\", title = \"Average ride duration per Weekday\")\n"
   ]
  },
  {
   "cell_type": "markdown",
   "id": "0ece0397",
   "metadata": {},
   "source": [
    "We can see:\n",
    "* That casual riders have more average ride time than members.\n",
    "* Casual riders especially have a bigger flow at the weekend."
   ]
  },
  {
   "cell_type": "code",
   "execution_count": 160,
   "id": "8cd39c2b",
   "metadata": {},
   "outputs": [
    {
     "data": {
      "image/png": "[encoded data removed]",
      "text/plain": [
       "plot without title"
      ]
     },
     "metadata": {},
     "output_type": "display_data"
    }
   ],
   "source": [
    "# Visualize average duration by months\n",
    "fig(10,6)\n",
    "trip_data %>% \n",
    "    group_by(customer_type, month) %>% \n",
    "    summarise(average_duration = mean(ride_time)) %>% \n",
    "    arrange(customer_type, month) %>% \n",
    "    ggplot(aes(x = month , y = average_duration, fill = customer_type))+\n",
    "    geom_col(position = position_dodge(width = 0.9))+\n",
    "    labs(x = \"Month\", y = \"Average duration (seconds)\", fill = \"Customer Type\", title = \"Average ride duration per Month\")+\n",
    "    coord_flip() # To flip the coordinates for better vision"
   ]
  },
  {
   "cell_type": "markdown",
   "id": "8226359a",
   "metadata": {},
   "source": [
    "It's clear to see that:\n",
    "* Casuals got more data points across all months.\n",
    "* The bigger data flow happening at those months (5-6-7) *each year*\n",
    "---\n",
    "Now let's consider another factors that could affect our analysis Like the `bike_type`, And how this differs between each customer type"
   ]
  },
  {
   "cell_type": "code",
   "execution_count": 180,
   "id": "c802e21e",
   "metadata": {},
   "outputs": [
    {
     "data": {
      "image/png": "[encoded data removed]",
      "text/plain": [
       "plot without title"
      ]
     },
     "metadata": {},
     "output_type": "display_data"
    }
   ],
   "source": [
    "#Visualize Ride Type per customer\n",
    "fig(9,5)\n",
    "ggplot(trip_data, aes(bike_type, fill = customer_type))+\n",
    "    geom_bar()+\n",
    "    labs(x = \"Bike Type\", title = \"Distribution of Bike type\")"
   ]
  },
  {
   "cell_type": "markdown",
   "id": "872f0c5b",
   "metadata": {},
   "source": [
    "Important to note that:\n",
    "* Members **NOT** riding docked Bikes\n",
    "* The most bike used is the classic one:\n",
    "    * Members using it more than Casual riders\n",
    "* Docked Bikes usually used, And by causal riders only"
   ]
  },
  {
   "cell_type": "markdown",
   "id": "7342a1a2",
   "metadata": {},
   "source": [
    "During the Share phase we discover alot of key findings and insights. Let's get into the next step."
   ]
  },
  {
   "cell_type": "markdown",
   "id": "36045c61",
   "metadata": {},
   "source": [
    "## Act\n",
    "\n",
    "The act phase is all about acting on our key findings.\n",
    "\n",
    "**Conclusions**:\n",
    "\n",
    "  * Annual members constitute the majority of riders, while casual riders represent a smaller portion of the user base.\n",
    "  * Annual members show higher participation on weekdays, indicating regular commuting or consistent usage patterns.\n",
    "  * Casual riders have more rides on weekends, suggesting leisure or recreational use.\n",
    "  * Average ride durations may differ between annual members and casual riders.\n",
    "  * Docked bikes are commonly used by annual members, while casual riders prefer classic bikes.\n",
    "  * There may be variations in the preferred time of day for riding between the two groups.\n",
    "  * The data may also reveal differences in the preferred months for riding.\n",
    "   \n",
    "**Recommendations for the Marketing Team**:\n",
    "\n",
    "* Develop weekday-focused marketing campaigns to further encourage annual members to use Cyclistic bikes. Highlight the convenience, time-saving benefits, and cost-effectiveness of commuting with Cyclistic\n",
    "\n",
    "* Create special packages or promotions targeting casual riders for weekend leisure activities. Collaborate with local businesses, attractions, or events to offer exclusive deals or partnerships. Emphasize the enjoyment, exploration, and fun aspects of using Cyclistic bikes on weekends.\n",
    "\n",
    "*  Consider offering customized bike options based on user preferences. Provide annual members with the choice of docked bikes or classic bikes, catering to their specific needs. This customization can enhance user satisfaction and encourage continued usage."
   ]
  }
 ],
 "metadata": {
  "kernelspec": {
   "display_name": "R",
   "language": "R",
   "name": "ir"
  },
  "language_info": {
   "codemirror_mode": "r",
   "file_extension": ".r",
   "mimetype": "text/x-r-source",
   "name": "R",
   "pygments_lexer": "r",
   "version": "3.6.1"
  }
 },
 "nbformat": 4,
 "nbformat_minor": 5
}
