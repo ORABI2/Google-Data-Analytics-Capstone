{
 "cells": [
  {
   "cell_type": "markdown",
   "id": "e4bd7254",
   "metadata": {},
   "source": [
    "# Introduction\n",
    "Welcome to the Cyclistic bike-share case study! this case study is a Capstone project of **Google Data Analytics Professional certificate**.\n",
    "* I will perform the 6 phases of Data analysis process (**Ask - Prepare - Process - Analyze - Share - Act**) on this case study, To help the marketing team design a new and creative startegy.\n",
    "* Also provide the company with with compelling insights and meaningful data visualizations.\n",
    "\n",
    "**Title: Cyclistic Bike-Share Case Study  \n",
    "Author: Khaled Orabi  \n",
    "Date: 7 July 2023**\n",
    "\n",
    "\n",
    "![Capstone 1 : Cyclistic - Bike Share Case Study | Kaggle](https://storage.googleapis.com/kaggle-datasets-images/1569874/2584294/f591308dd67d47ec9b92ca9e4e3b0fe5/dataset-cover.png?t=2021-09-03-19-18-50)\n",
    "\n",
    "\n",
    "## Backgorund\n",
    "* Cyclistic bike-share program has grown to a fleet of 5,824 bicycles that are locked into a network of 692 stations across Chicago.\n",
    "* Bike can unlocked from one station and return to another one.\n",
    "* Cyclistc has plenty of pricing plans:\n",
    "\t> **Single-ride**\n",
    "\t> **Full-day**\n",
    "\n",
    "\tCustomers of those plans are referred as **casual riders**\n",
    "\t>**Annual memberships**\n",
    "\t\n",
    "\tCustomers who purchase  this plan referred as **memebers** \n",
    "\n",
    "---\n",
    "## Scenario\n",
    "As a data analyst working with the marketing team at Cyclistic company in Chicago. The director believes that the comapany's success depends on maximizing the number of the annual memberships. Therefore the marketing team wants to understand how casual riders and anuual members use Cyclistic bikes differently to design a new strategy. So I will develop some recommendations for the marketing team reinforced with good data insights and attractive visualizations.\n",
    "\n",
    "---\n",
    "## Stakeholders\n",
    "* **Lily Moreno**: The director of marketing and your manager. Moreno is responsible for the development of campaigns and initiatives to promote the bike-share program.  \n",
    "\n",
    "* **Cyclistic executive team**: The notoriously detail-oriented executive team will decide whether to approve the recommended marketing program.  \n",
    "\n",
    "---\n",
    "## Main objectives\n",
    " 1. How do annual members and casual riders use Cyclistic bikes differently?\n",
    " 2. Why would casual riders buy Cyclistic annual memberships?\n",
    " 3. How can Cyclistic use digital media to influence casual riders to become members?\n",
    " \n",
    " ---  \n",
    "# Let's get into the Analysis Process \n",
    "![Work on your next Data Analytics project in 6 steps | by Chitranjan Gupta |  CodeX | Medium](https://miro.medium.com/v2/resize:fit:1400/1*4h7ahFBqnaFHeWibHWOl7w.png)\n",
    "## Ask Phase\n",
    "\n",
    "**Main objectives for the marketing team:**\n",
    " 1. How do annual members and casual riders use Cyclistic bikes differently?\n",
    " 2. Why would casual riders buy Cyclistic annual memberships?\n",
    " 3. How can Cyclistic use digital media to influence casual riders to become members?  \n",
    " \n",
    ">Moreno has assigned me the first question to answer: **How do annual members and casual riders use Cyclistic bikes differently?**\n",
    " \n",
    "\n",
    "Our main Business Task or the main research question we want to answer is **How do annual members and casual riders use Cyclistic bikes differently?**\n",
    "\n",
    "---\n",
    "## Prepare Phase\n",
    "### Data Source / Location\n",
    "We will **collect and gather** Cyclistic’s historical trip data to **analyze and identify trends** from this [Source](https://divvy-tripdata.s3.amazonaws.com/index.html)\n",
    "\n",
    "This is a Public data a has been made available by **Motivate International Inc** (Under this [**License**](https://ride.divvybikes.com/data-license-agreement))\n",
    "\n",
    "#### Does our data ROCCC ?\n",
    "* A good data source is **ROCCC** which stands for **R**eliable, **O**riginal, **C**omprehensive, **C**urrent, and **C**ited.\n",
    "\n",
    "\t 1. **R**eliable - Yes it is, since the the bike-share company **is the parent** of data provider Inc.\n",
    "\t 2. **O**riginal - Yes!, because of it's reliability we can ensure that our data is original\n",
    "\t 3. **C**omprehensive - Yes we got most of the information we neeed to solve the problem\n",
    "\t 4. **C**urrent - Yes, Because our data is new, we got 1 year worth of data **(From: 2022-06 To: 2023-05)**\n",
    "\t 5. **C**ited - Yes \n",
    "\n",
    "\tSo i think our data **ROCCC**s \n",
    "### Data Orgnaization\n",
    "we stored our data into one data frame after merging the 12 CSV files into one CSV file.\n",
    "Here in my case i used python because it's a bit faster so here the **code** i used to merge the files:\n",
    "```python\n",
    "import pandas as pd\n",
    "import glob\n",
    "file_paths = glob.glob(\".../datasets/*.csv\")  # Add your 12 month dataset files into one file and put this directory instead of the (...)\n",
    "dfs = []\n",
    "for file_path in file_paths:\n",
    "    df = pd.read_csv(file_path)\n",
    "    dfs.append(df)\n",
    "merged_df = pd.concat(dfs, axis=0, ignore_index=True)\n",
    "merged_df.to_csv(\".../datasets/ready_trip_data.csv\", index=False)\n",
    "```\n",
    "\n",
    "**Note:** you can use R to achieve the last step if you want\n",
    "\n",
    "## Process Phase\n",
    "I used R because it is usually preferred for data visualization as it offers flexibility and minimum required coding through its packages like"
   ]
  },
  {
   "cell_type": "code",
   "execution_count": 15,
   "id": "f91fc085",
   "metadata": {},
   "outputs": [
    {
     "ename": "ERROR",
     "evalue": "Error in library(ggmap): there is no package called 'ggmap'\n",
     "output_type": "error",
     "traceback": [
      "Error in library(ggmap): there is no package called 'ggmap'\nTraceback:\n",
      "1. library(ggmap)"
     ]
    }
   ],
   "source": [
    "library(tidyverse)\n",
    "\n",
    "library(ggmap)"
   ]
  },
  {
   "cell_type": "code",
   "execution_count": 11,
   "id": "4f321a81",
   "metadata": {
    "scrolled": true
   },
   "outputs": [
    {
     "name": "stderr",
     "output_type": "stream",
     "text": [
      "Parsed with column specification:\n",
      "cols(\n",
      "  ride_id = col_character(),\n",
      "  rideable_type = col_character(),\n",
      "  started_at = col_datetime(format = \"\"),\n",
      "  ended_at = col_datetime(format = \"\"),\n",
      "  start_station_name = col_character(),\n",
      "  start_station_id = col_character(),\n",
      "  end_station_name = col_character(),\n",
      "  end_station_id = col_character(),\n",
      "  start_lat = col_double(),\n",
      "  start_lng = col_double(),\n",
      "  end_lat = col_double(),\n",
      "  end_lng = col_double(),\n",
      "  member_casual = col_character()\n",
      ")\n"
     ]
    }
   ],
   "source": [
    "file_paths <- read_csv(\"C:/Users/orabi/OneDrive - Cairo University - Students/Documents/Data Analytics/Projects/Google-Data-Analytics-Capstone/ready_trip_data.csv\")"
   ]
  },
  {
   "cell_type": "markdown",
   "id": "28dfc707",
   "metadata": {},
   "source": [
    "* First we will drop any records with NA values"
   ]
  },
  {
   "cell_type": "code",
   "execution_count": 3,
   "id": "33ce1c45",
   "metadata": {},
   "outputs": [],
   "source": [
    "trip_data <- drop_na(file_paths)"
   ]
  },
  {
   "cell_type": "code",
   "execution_count": null,
   "id": "ea44ff7a",
   "metadata": {},
   "outputs": [],
   "source": []
  },
  {
   "cell_type": "code",
   "execution_count": 4,
   "id": "8cefda22",
   "metadata": {},
   "outputs": [
    {
     "name": "stdout",
     "output_type": "stream",
     "text": [
      "Observations: 4,494,681\n",
      "Variables: 13\n",
      "$ ride_id            <chr> \"B12AD6565494C368\", \"BAD4CB075003A605\", \"76DAD9F...\n",
      "$ rideable_type      <chr> \"classic_bike\", \"electric_bike\", \"electric_bike\"...\n",
      "$ started_at         <dttm> 2022-06-09 22:28:32, 2022-06-19 17:08:23, 2022-...\n",
      "$ ended_at           <dttm> 2022-06-09 22:52:17, 2022-06-19 17:08:25, 2022-...\n",
      "$ start_station_name <chr> \"California Ave & Milwaukee Ave\", \"California Av...\n",
      "$ start_station_id   <chr> \"13084\", \"13084\", \"20222\", \"637\", \"13256\", \"1308...\n",
      "$ end_station_name   <chr> \"California Ave & Milwaukee Ave\", \"California Av...\n",
      "$ end_station_id     <chr> \"13084\", \"13084\", \"20222\", \"13256\", \"13256\", \"13...\n",
      "$ start_lat          <dbl> 41.92269, 41.92261, 41.70463, 41.89561, 41.90303...\n",
      "$ start_lng          <dbl> -87.69715, -87.69715, -87.52841, -87.67210, -87....\n",
      "$ end_lat            <dbl> 41.92269, 41.92269, 41.70458, 41.90303, 41.90303...\n",
      "$ end_lng            <dbl> -87.69715, -87.69715, -87.52823, -87.69747, -87....\n",
      "$ member_casual      <chr> \"casual\", \"casual\", \"casual\", \"casual\", \"casual\"...\n"
     ]
    },
    {
     "data": {
      "text/plain": [
       "   ride_id          rideable_type        started_at                 \n",
       " Length:4494681     Length:4494681     Min.   :2022-06-01 00:00:04  \n",
       " Class :character   Class :character   1st Qu.:2022-07-25 17:41:25  \n",
       " Mode  :character   Mode  :character   Median :2022-09-21 14:54:13  \n",
       "                                       Mean   :2022-10-26 20:48:12  \n",
       "                                       3rd Qu.:2023-02-04 15:56:12  \n",
       "                                       Max.   :2023-05-31 23:59:49  \n",
       "    ended_at                   start_station_name start_station_id  \n",
       " Min.   :2022-06-01 00:02:38   Length:4494681     Length:4494681    \n",
       " 1st Qu.:2022-07-25 17:57:27   Class :character   Class :character  \n",
       " Median :2022-09-21 15:09:23   Mode  :character   Mode  :character  \n",
       " Mean   :2022-10-26 21:04:30                                        \n",
       " 3rd Qu.:2023-02-04 16:08:31                                        \n",
       " Max.   :2023-06-07 23:04:26                                        \n",
       " end_station_name   end_station_id       start_lat       start_lng     \n",
       " Length:4494681     Length:4494681     Min.   :41.65   Min.   :-87.84  \n",
       " Class :character   Class :character   1st Qu.:41.88   1st Qu.:-87.66  \n",
       " Mode  :character   Mode  :character   Median :41.90   Median :-87.64  \n",
       "                                       Mean   :41.90   Mean   :-87.65  \n",
       "                                       3rd Qu.:41.93   3rd Qu.:-87.63  \n",
       "                                       Max.   :42.06   Max.   :-87.53  \n",
       "    end_lat         end_lng       member_casual     \n",
       " Min.   : 0.00   Min.   :-87.84   Length:4494681    \n",
       " 1st Qu.:41.88   1st Qu.:-87.66   Class :character  \n",
       " Median :41.90   Median :-87.64   Mode  :character  \n",
       " Mean   :41.90   Mean   :-87.65                     \n",
       " 3rd Qu.:41.93   3rd Qu.:-87.63                     \n",
       " Max.   :42.06   Max.   :  0.00                     "
      ]
     },
     "metadata": {},
     "output_type": "display_data"
    }
   ],
   "source": [
    "str(file_paths)\n",
    "glimpse(trip_data)\n",
    "summary(trip_data)\n",
    "head(trip_data)"
   ]
  },
  {
   "cell_type": "code",
   "execution_count": null,
   "id": "b2adda09",
   "metadata": {},
   "outputs": [],
   "source": []
  }
 ],
 "metadata": {
  "kernelspec": {
   "display_name": "R",
   "language": "R",
   "name": "ir"
  },
  "language_info": {
   "codemirror_mode": "r",
   "file_extension": ".r",
   "mimetype": "text/x-r-source",
   "name": "R",
   "pygments_lexer": "r",
   "version": "3.6.1"
  }
 },
 "nbformat": 4,
 "nbformat_minor": 5
}
